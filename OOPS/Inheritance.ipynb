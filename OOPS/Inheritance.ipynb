{
 "cells": [
  {
   "cell_type": "markdown",
   "id": "10781b1f",
   "metadata": {},
   "source": [
    "# Inheritance\n",
    "    - a process where one class acquire the methods and properties of another class\n",
    "\n",
    "<strong>Parent class :</strong> is the class being inherited from, also called base class.<br>\n",
    "<strong>Child class :</strong> is that class inherits from another class, also called derived class.<br>\n",
    "    <strong>Syntax :</strong><br>\n",
    "    <mark> class ChildClassName(ParentClassName)</mark><br>\n",
    "    ..."
   ]
  },
  {
   "cell_type": "code",
   "execution_count": 1,
   "id": "e9e8232b",
   "metadata": {},
   "outputs": [],
   "source": [
    "class Human():\n",
    "    \n",
    "    #class variable\n",
    "    database = []\n",
    "    population = 0\n",
    "    id_seq = 101\n",
    "    \n",
    "    #constructor\n",
    "    def __init__(self, name, age, is_alive=True):\n",
    "        #instance variable\n",
    "        self.name = name\n",
    "        self.age = age\n",
    "        self.is_alive = is_alive\n",
    "        \n",
    "        #adding id of an object\n",
    "        self.id = Human.id_seq\n",
    "        Human.id_seq += 1\n",
    "        Human.population += 1\n",
    "        \n",
    "        Human.database.append(self)\n",
    "    \n",
    "    def introduce(self):\n",
    "        print(\"Hi, My name is\", self.name, \"My age is \", self.age)\n",
    "        \n",
    "    \n",
    "    def die(self):\n",
    "        if self.is_alive:\n",
    "            print(self.name, \"is dying\")\n",
    "            self.is_alive = False\n",
    "            Human.population -= 1\n",
    "        else:\n",
    "            print(\"{} is already dead\".format(self.name))\n",
    "            \n",
    "    \n",
    "    #magic function\n",
    "    def __repr__(self):\n",
    "        \"\"\"\n",
    "        this function needs to return a string\n",
    "        \"\"\"\n",
    "        \n",
    "        return \"[{}, {}, {}, {}]\".format(self.id, self.name, self.age, self.is_alive)"
   ]
  },
  {
   "cell_type": "code",
   "execution_count": 3,
   "id": "6d37c1e1",
   "metadata": {},
   "outputs": [],
   "source": [
    "#child class\n",
    "class Hitman(Human):\n",
    "    \n",
    "    def __init__(self, name, age):\n",
    "        super().__init__(name, age)\n",
    "        \n",
    "        self.kills = 0\n",
    "        self.kill_list = []"
   ]
  },
  {
   "cell_type": "code",
   "execution_count": 4,
   "id": "13cb7e9c",
   "metadata": {},
   "outputs": [],
   "source": [
    "h1 = Human(\"Mohit\", 23)\n",
    "h2 = Human(\"Prateek\", 27)\n",
    "h3 = Human(\"Jatin\", 26)"
   ]
  },
  {
   "cell_type": "code",
   "execution_count": 5,
   "id": "962cf8c6",
   "metadata": {},
   "outputs": [
    {
     "data": {
      "text/plain": [
       "3"
      ]
     },
     "execution_count": 5,
     "metadata": {},
     "output_type": "execute_result"
    }
   ],
   "source": [
    "Human.population"
   ]
  },
  {
   "cell_type": "code",
   "execution_count": 6,
   "id": "7b7e96a3",
   "metadata": {},
   "outputs": [
    {
     "data": {
      "text/plain": [
       "[[101, Mohit, 23, True], [102, Prateek, 27, True], [103, Jatin, 26, True]]"
      ]
     },
     "execution_count": 6,
     "metadata": {},
     "output_type": "execute_result"
    }
   ],
   "source": [
    "Human.database"
   ]
  },
  {
   "cell_type": "code",
   "execution_count": 8,
   "id": "2a1e2905",
   "metadata": {},
   "outputs": [],
   "source": [
    "#creating a hitman\n",
    "bond = Hitman(\"James\", 30)"
   ]
  },
  {
   "cell_type": "code",
   "execution_count": 10,
   "id": "fbedb9e7",
   "metadata": {},
   "outputs": [
    {
     "data": {
      "text/plain": [
       "5"
      ]
     },
     "execution_count": 10,
     "metadata": {},
     "output_type": "execute_result"
    }
   ],
   "source": [
    "Human.population"
   ]
  },
  {
   "cell_type": "code",
   "execution_count": 11,
   "id": "dc34d660",
   "metadata": {},
   "outputs": [
    {
     "data": {
      "text/plain": [
       "[[101, Mohit, 23, True],\n",
       " [102, Prateek, 27, True],\n",
       " [103, Jatin, 26, True],\n",
       " [104, James, 30, True],\n",
       " [105, James, 30, True]]"
      ]
     },
     "execution_count": 11,
     "metadata": {},
     "output_type": "execute_result"
    }
   ],
   "source": [
    "Human.database"
   ]
  },
  {
   "cell_type": "code",
   "execution_count": 12,
   "id": "9efdbf6a",
   "metadata": {},
   "outputs": [
    {
     "name": "stdout",
     "output_type": "stream",
     "text": [
      "[105, James, 30, True]\n"
     ]
    }
   ],
   "source": [
    "print(bond)"
   ]
  }
 ],
 "metadata": {
  "kernelspec": {
   "display_name": "Python 3 (ipykernel)",
   "language": "python",
   "name": "python3"
  },
  "language_info": {
   "codemirror_mode": {
    "name": "ipython",
    "version": 3
   },
   "file_extension": ".py",
   "mimetype": "text/x-python",
   "name": "python",
   "nbconvert_exporter": "python",
   "pygments_lexer": "ipython3",
   "version": "3.9.13"
  }
 },
 "nbformat": 4,
 "nbformat_minor": 5
}
