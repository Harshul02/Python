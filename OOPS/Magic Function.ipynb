{
 "cells": [
  {
   "cell_type": "markdown",
   "id": "1212330b",
   "metadata": {},
   "source": [
    "# Magic Functions\n",
    "    - they are called automatically when particular event occur.\n",
    "    \n",
    "    eg : __repr__ (used to represent any object), __init__, __str__"
   ]
  },
  {
   "cell_type": "code",
   "execution_count": 1,
   "id": "1284f063",
   "metadata": {},
   "outputs": [],
   "source": [
    "class Human():\n",
    "    \n",
    "    #class variable\n",
    "    database = []\n",
    "    population = 0\n",
    "    id_seq = 101\n",
    "    \n",
    "    #constructor\n",
    "    def __init__(self, name, age, is_alive=True):\n",
    "        #instance variable\n",
    "        self.name = name\n",
    "        self.age = age\n",
    "        self.is_alive = is_alive\n",
    "        \n",
    "        #adding id of an object\n",
    "        self.id = Human.id_seq\n",
    "        Human.id_seq += 1\n",
    "        Human.population += 1\n",
    "        \n",
    "        Human.database.append(self)\n",
    "    \n",
    "    def introduce(self):\n",
    "        print(\"Hi, My name is\", self.name, \"My age is \", self.age)\n",
    "        \n",
    "    \n",
    "    def die(self):\n",
    "        if self.is_alive:\n",
    "            print(self.name, \"is dying\")\n",
    "            self.is_alive = False\n",
    "            Human.population -= 1\n",
    "        else:\n",
    "            print(\"{} is already dead\".format(self.name))\n",
    "            \n",
    "    \n",
    "    #magic function\n",
    "    def __repr__(self):\n",
    "        \"\"\"\n",
    "        this function needs to return a string\n",
    "        \"\"\"\n",
    "        \n",
    "        return \"[{}, {}, {}, {}]\".format(self.id, self.name, self.age, self.is_alive)"
   ]
  },
  {
   "cell_type": "code",
   "execution_count": 4,
   "id": "e73bade4",
   "metadata": {},
   "outputs": [],
   "source": [
    "h1 = Human(\"Mohit\", 23)\n",
    "h2 = Human(\"Prateek\", 27)"
   ]
  },
  {
   "cell_type": "code",
   "execution_count": 5,
   "id": "a84e2870",
   "metadata": {},
   "outputs": [
    {
     "name": "stdout",
     "output_type": "stream",
     "text": [
      "[101, Mohit, 23, True]\n"
     ]
    }
   ],
   "source": [
    "print(h1)"
   ]
  },
  {
   "cell_type": "code",
   "execution_count": 6,
   "id": "d739feb1",
   "metadata": {},
   "outputs": [
    {
     "name": "stdout",
     "output_type": "stream",
     "text": [
      "[102, Prateek, 27, True]\n"
     ]
    }
   ],
   "source": [
    "print(h2)"
   ]
  },
  {
   "cell_type": "code",
   "execution_count": 7,
   "id": "d5bbea3d",
   "metadata": {},
   "outputs": [
    {
     "data": {
      "text/plain": [
       "2"
      ]
     },
     "execution_count": 7,
     "metadata": {},
     "output_type": "execute_result"
    }
   ],
   "source": [
    "Human.population"
   ]
  },
  {
   "cell_type": "code",
   "execution_count": 8,
   "id": "ca6cfd85",
   "metadata": {},
   "outputs": [
    {
     "data": {
      "text/plain": [
       "[[101, Mohit, 23, True], [102, Prateek, 27, True]]"
      ]
     },
     "execution_count": 8,
     "metadata": {},
     "output_type": "execute_result"
    }
   ],
   "source": [
    "Human.database"
   ]
  },
  {
   "cell_type": "code",
   "execution_count": 9,
   "id": "08a9b8a9",
   "metadata": {},
   "outputs": [
    {
     "name": "stdout",
     "output_type": "stream",
     "text": [
      "Mohit is dying\n"
     ]
    }
   ],
   "source": [
    "h1.die()"
   ]
  },
  {
   "cell_type": "code",
   "execution_count": 11,
   "id": "8c3ad46f",
   "metadata": {},
   "outputs": [
    {
     "name": "stdout",
     "output_type": "stream",
     "text": [
      "[101, Mohit, 23, False]\n"
     ]
    }
   ],
   "source": [
    "print(h1)"
   ]
  },
  {
   "cell_type": "code",
   "execution_count": 12,
   "id": "0dacc5aa",
   "metadata": {},
   "outputs": [
    {
     "data": {
      "text/plain": [
       "1"
      ]
     },
     "execution_count": 12,
     "metadata": {},
     "output_type": "execute_result"
    }
   ],
   "source": [
    "Human.population"
   ]
  },
  {
   "cell_type": "code",
   "execution_count": 13,
   "id": "ec5f0cbb",
   "metadata": {},
   "outputs": [
    {
     "data": {
      "text/plain": [
       "[[101, Mohit, 23, False], [102, Prateek, 27, True]]"
      ]
     },
     "execution_count": 13,
     "metadata": {},
     "output_type": "execute_result"
    }
   ],
   "source": [
    "Human.database"
   ]
  }
 ],
 "metadata": {
  "kernelspec": {
   "display_name": "Python 3 (ipykernel)",
   "language": "python",
   "name": "python3"
  },
  "language_info": {
   "codemirror_mode": {
    "name": "ipython",
    "version": 3
   },
   "file_extension": ".py",
   "mimetype": "text/x-python",
   "name": "python",
   "nbconvert_exporter": "python",
   "pygments_lexer": "ipython3",
   "version": "3.9.13"
  }
 },
 "nbformat": 4,
 "nbformat_minor": 5
}
