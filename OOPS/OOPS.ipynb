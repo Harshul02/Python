{
 "cells": [
  {
   "cell_type": "markdown",
   "id": "72399d32",
   "metadata": {},
   "source": [
    "# OOPS\n",
    "\n",
    "    - Abstraction, Encapsulation, Inheritance and Polymorphism"
   ]
  },
  {
   "cell_type": "markdown",
   "id": "9fc99ba6",
   "metadata": {},
   "source": [
    "### Class\n",
    "    - classes are the blue print of any real world entity\n",
    "    - eg Human"
   ]
  },
  {
   "cell_type": "code",
   "execution_count": 1,
   "id": "8983259b",
   "metadata": {},
   "outputs": [],
   "source": [
    "class Human():\n",
    "    pass"
   ]
  },
  {
   "cell_type": "markdown",
   "id": "bf37ec3c",
   "metadata": {},
   "source": [
    "### Object\n",
    "    - Objects are the instance of the classes\n",
    "    - eh Mohit is an instance of human class"
   ]
  },
  {
   "cell_type": "code",
   "execution_count": 5,
   "id": "f3057fcb",
   "metadata": {},
   "outputs": [],
   "source": [
    "#creating an object\n",
    "mohit = Human()"
   ]
  },
  {
   "cell_type": "code",
   "execution_count": 3,
   "id": "d1c222d4",
   "metadata": {},
   "outputs": [
    {
     "data": {
      "text/plain": [
       "__main__.Human"
      ]
     },
     "execution_count": 3,
     "metadata": {},
     "output_type": "execute_result"
    }
   ],
   "source": [
    "type(mohit)"
   ]
  },
  {
   "cell_type": "code",
   "execution_count": 4,
   "id": "3dc5a51a",
   "metadata": {},
   "outputs": [
    {
     "name": "stdout",
     "output_type": "stream",
     "text": [
      "<class 'int'>\n"
     ]
    }
   ],
   "source": [
    "print(type(1))"
   ]
  }
 ],
 "metadata": {
  "kernelspec": {
   "display_name": "Python 3 (ipykernel)",
   "language": "python",
   "name": "python3"
  },
  "language_info": {
   "codemirror_mode": {
    "name": "ipython",
    "version": 3
   },
   "file_extension": ".py",
   "mimetype": "text/x-python",
   "name": "python",
   "nbconvert_exporter": "python",
   "pygments_lexer": "ipython3",
   "version": "3.9.13"
  }
 },
 "nbformat": 4,
 "nbformat_minor": 5
}
