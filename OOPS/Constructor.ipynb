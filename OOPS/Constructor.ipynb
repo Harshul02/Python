{
 "cells": [
  {
   "cell_type": "markdown",
   "id": "e2adde90",
   "metadata": {},
   "source": [
    "## Defining the constructor of a class\n",
    "    - A constructor is a special member function of a class that is executed whenever we create new objects of the class.\n",
    "    \n",
    "    def __init__(self):\n",
    "        ...\n",
    "        ..."
   ]
  },
  {
   "cell_type": "code",
   "execution_count": 5,
   "id": "98a77d99",
   "metadata": {},
   "outputs": [],
   "source": [
    "class Human:\n",
    "    \n",
    "    #constructor\n",
    "    def __init__(self, name, age):\n",
    "        print(\"creating an object\")\n",
    "        self.name = name\n",
    "        self.age = age"
   ]
  },
  {
   "cell_type": "code",
   "execution_count": 6,
   "id": "4e6ee734",
   "metadata": {},
   "outputs": [
    {
     "name": "stdout",
     "output_type": "stream",
     "text": [
      "creating an object\n"
     ]
    }
   ],
   "source": [
    "mohit=Human(\"Mohit\", 23)"
   ]
  },
  {
   "cell_type": "code",
   "execution_count": 7,
   "id": "9ca2c08c",
   "metadata": {},
   "outputs": [
    {
     "name": "stdout",
     "output_type": "stream",
     "text": [
      "<__main__.Human object at 0x0000017E0BA21610>\n"
     ]
    }
   ],
   "source": [
    "print(mohit)"
   ]
  },
  {
   "cell_type": "code",
   "execution_count": 8,
   "id": "cd2625c0",
   "metadata": {},
   "outputs": [
    {
     "name": "stdout",
     "output_type": "stream",
     "text": [
      "Mohit\n",
      "23\n"
     ]
    }
   ],
   "source": [
    "print(mohit.name)\n",
    "print(mohit.age)"
   ]
  },
  {
   "cell_type": "code",
   "execution_count": 9,
   "id": "eda1194d",
   "metadata": {},
   "outputs": [
    {
     "name": "stdout",
     "output_type": "stream",
     "text": [
      "creating an object\n"
     ]
    }
   ],
   "source": [
    "h2 = Human(\"Prateek\", 27)"
   ]
  }
 ],
 "metadata": {
  "kernelspec": {
   "display_name": "Python 3 (ipykernel)",
   "language": "python",
   "name": "python3"
  },
  "language_info": {
   "codemirror_mode": {
    "name": "ipython",
    "version": 3
   },
   "file_extension": ".py",
   "mimetype": "text/x-python",
   "name": "python",
   "nbconvert_exporter": "python",
   "pygments_lexer": "ipython3",
   "version": "3.9.13"
  }
 },
 "nbformat": 4,
 "nbformat_minor": 5
}
