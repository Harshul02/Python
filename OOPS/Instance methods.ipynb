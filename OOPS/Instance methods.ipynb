{
 "cells": [
  {
   "cell_type": "markdown",
   "id": "ce983f98",
   "metadata": {},
   "source": [
    "## Defining the methods of a instance\n",
    "\n",
    "    def introduce(self):\n",
    "        ...\n",
    "        ..."
   ]
  },
  {
   "cell_type": "code",
   "execution_count": 7,
   "id": "15e7d351",
   "metadata": {},
   "outputs": [],
   "source": [
    "class Human():\n",
    "    \n",
    "    #constructor\n",
    "    def __init__(self, name, age):\n",
    "        print(\"Creating an object\")\n",
    "        #instance\n",
    "        self.name = name\n",
    "        self.age = age\n",
    "        \n",
    "    #instance method\n",
    "    def introduce(self):\n",
    "        print(\"Hi my name is\", self.name, \"My age is \", self.age)"
   ]
  },
  {
   "cell_type": "code",
   "execution_count": 5,
   "id": "1b3a1bc8",
   "metadata": {},
   "outputs": [
    {
     "name": "stdout",
     "output_type": "stream",
     "text": [
      "Creating an object\n",
      "Creating an object\n"
     ]
    }
   ],
   "source": [
    "obj1 = Human(\"Mohit\", 23)\n",
    "obj2 = Human(\"Prateek\", 27)"
   ]
  },
  {
   "cell_type": "code",
   "execution_count": 6,
   "id": "d49f7bba",
   "metadata": {},
   "outputs": [
    {
     "name": "stdout",
     "output_type": "stream",
     "text": [
      "Hi my name is Mohit My age is  23\n",
      "Hi my name is Prateek My age is  27\n"
     ]
    }
   ],
   "source": [
    "obj1.introduce()\n",
    "obj2.introduce()"
   ]
  }
 ],
 "metadata": {
  "kernelspec": {
   "display_name": "Python 3 (ipykernel)",
   "language": "python",
   "name": "python3"
  },
  "language_info": {
   "codemirror_mode": {
    "name": "ipython",
    "version": 3
   },
   "file_extension": ".py",
   "mimetype": "text/x-python",
   "name": "python",
   "nbconvert_exporter": "python",
   "pygments_lexer": "ipython3",
   "version": "3.9.13"
  }
 },
 "nbformat": 4,
 "nbformat_minor": 5
}
