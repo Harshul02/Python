{
 "cells": [
  {
   "cell_type": "markdown",
   "id": "6e1e63d9",
   "metadata": {},
   "source": [
    "# Tuples\n",
    "    - similar to list, but read-only\n",
    "    - ordered, collections of items\n",
    "    - indexed\n",
    "    - immutable\n",
    "    - ()\n",
    "    - faster than list"
   ]
  },
  {
   "cell_type": "code",
   "execution_count": 3,
   "id": "47007639",
   "metadata": {},
   "outputs": [],
   "source": [
    "tup = (8,9, \"Hello\", 88)"
   ]
  },
  {
   "cell_type": "code",
   "execution_count": 4,
   "id": "40723d16",
   "metadata": {},
   "outputs": [
    {
     "name": "stdout",
     "output_type": "stream",
     "text": [
      "(8, 9, 'Hello', 88)\n"
     ]
    }
   ],
   "source": [
    "print(tup)"
   ]
  },
  {
   "cell_type": "code",
   "execution_count": 5,
   "id": "71c5c1a5",
   "metadata": {},
   "outputs": [
    {
     "name": "stdout",
     "output_type": "stream",
     "text": [
      "<class 'tuple'>\n"
     ]
    }
   ],
   "source": [
    "print(type(tup))"
   ]
  },
  {
   "cell_type": "code",
   "execution_count": 7,
   "id": "07b6c122",
   "metadata": {},
   "outputs": [
    {
     "name": "stdout",
     "output_type": "stream",
     "text": [
      "8\n",
      "(8, 9, 'Hello')\n"
     ]
    }
   ],
   "source": [
    "print(tup[0])\n",
    "\n",
    "print(tup[:-1])"
   ]
  },
  {
   "cell_type": "code",
   "execution_count": 8,
   "id": "4c717b92",
   "metadata": {},
   "outputs": [
    {
     "ename": "TypeError",
     "evalue": "'tuple' object does not support item assignment",
     "output_type": "error",
     "traceback": [
      "\u001b[1;31m---------------------------------------------------------------------------\u001b[0m",
      "\u001b[1;31mTypeError\u001b[0m                                 Traceback (most recent call last)",
      "\u001b[1;32m~\\AppData\\Local\\Temp\\ipykernel_900\\1033698610.py\u001b[0m in \u001b[0;36m<module>\u001b[1;34m\u001b[0m\n\u001b[0;32m      1\u001b[0m \u001b[1;31m#But this is not possible because of immutability\u001b[0m\u001b[1;33m\u001b[0m\u001b[1;33m\u001b[0m\u001b[0m\n\u001b[1;32m----> 2\u001b[1;33m \u001b[0mtup\u001b[0m\u001b[1;33m[\u001b[0m\u001b[1;36m0\u001b[0m\u001b[1;33m]\u001b[0m\u001b[1;33m=\u001b[0m\u001b[1;36m1\u001b[0m\u001b[1;33m\u001b[0m\u001b[1;33m\u001b[0m\u001b[0m\n\u001b[0m",
      "\u001b[1;31mTypeError\u001b[0m: 'tuple' object does not support item assignment"
     ]
    }
   ],
   "source": [
    "#But this is not possible because of immutability\n",
    "tup[0]=1"
   ]
  },
  {
   "cell_type": "code",
   "execution_count": 9,
   "id": "b01f273c",
   "metadata": {},
   "outputs": [
    {
     "name": "stdout",
     "output_type": "stream",
     "text": [
      "8\n",
      "9\n",
      "Hello\n",
      "88\n"
     ]
    }
   ],
   "source": [
    "for ele in tup:\n",
    "    print(ele)"
   ]
  }
 ],
 "metadata": {
  "kernelspec": {
   "display_name": "Python 3 (ipykernel)",
   "language": "python",
   "name": "python3"
  },
  "language_info": {
   "codemirror_mode": {
    "name": "ipython",
    "version": 3
   },
   "file_extension": ".py",
   "mimetype": "text/x-python",
   "name": "python",
   "nbconvert_exporter": "python",
   "pygments_lexer": "ipython3",
   "version": "3.9.13"
  }
 },
 "nbformat": 4,
 "nbformat_minor": 5
}
