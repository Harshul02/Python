{
 "cells": [
  {
   "cell_type": "markdown",
   "id": "bc94b50b",
   "metadata": {},
   "source": [
    "# Dictionary\n",
    "    - stores in key-value pair\n",
    "    - unordered\n",
    "    - unindexable\n",
    "    - access the values, with help of keys"
   ]
  },
  {
   "cell_type": "code",
   "execution_count": 1,
   "id": "cb8d3748",
   "metadata": {},
   "outputs": [],
   "source": [
    "user_info = {\n",
    "    \"name\": \"John Doe\",\n",
    "    \"age\": 36,\n",
    "    \"nationality\": \"Indian\"\n",
    "}"
   ]
  },
  {
   "cell_type": "code",
   "execution_count": 2,
   "id": "51158af7",
   "metadata": {},
   "outputs": [
    {
     "name": "stdout",
     "output_type": "stream",
     "text": [
      "{'name': 'John Doe', 'age': 36, 'nationality': 'Indian'}\n"
     ]
    }
   ],
   "source": [
    "print(user_info)"
   ]
  },
  {
   "cell_type": "code",
   "execution_count": 3,
   "id": "50c71544",
   "metadata": {},
   "outputs": [
    {
     "data": {
      "text/plain": [
       "dict"
      ]
     },
     "execution_count": 3,
     "metadata": {},
     "output_type": "execute_result"
    }
   ],
   "source": [
    "type(user_info)"
   ]
  },
  {
   "cell_type": "code",
   "execution_count": 4,
   "id": "7ac3ec57",
   "metadata": {},
   "outputs": [
    {
     "name": "stdout",
     "output_type": "stream",
     "text": [
      "John Doe\n",
      "Indian\n"
     ]
    }
   ],
   "source": [
    "#accessing elements in dictionary\n",
    "\n",
    "print(user_info['name'])\n",
    "print(user_info['nationality'])"
   ]
  },
  {
   "cell_type": "code",
   "execution_count": 6,
   "id": "5939e2f1",
   "metadata": {},
   "outputs": [
    {
     "ename": "KeyError",
     "evalue": "'language'",
     "output_type": "error",
     "traceback": [
      "\u001b[1;31m---------------------------------------------------------------------------\u001b[0m",
      "\u001b[1;31mKeyError\u001b[0m                                  Traceback (most recent call last)",
      "\u001b[1;32m~\\AppData\\Local\\Temp\\ipykernel_16152\\3406268149.py\u001b[0m in \u001b[0;36m<module>\u001b[1;34m\u001b[0m\n\u001b[0;32m      1\u001b[0m \u001b[1;31m#unknown key gives error\u001b[0m\u001b[1;33m\u001b[0m\u001b[1;33m\u001b[0m\u001b[0m\n\u001b[1;32m----> 2\u001b[1;33m \u001b[0mprint\u001b[0m\u001b[1;33m(\u001b[0m\u001b[0muser_info\u001b[0m\u001b[1;33m[\u001b[0m\u001b[1;34m'language'\u001b[0m\u001b[1;33m]\u001b[0m\u001b[1;33m)\u001b[0m\u001b[1;33m\u001b[0m\u001b[1;33m\u001b[0m\u001b[0m\n\u001b[0m",
      "\u001b[1;31mKeyError\u001b[0m: 'language'"
     ]
    }
   ],
   "source": [
    "#unknown key gives error\n",
    "print(user_info['language'])"
   ]
  },
  {
   "cell_type": "markdown",
   "id": "f4fe72e5",
   "metadata": {},
   "source": [
    "use <mark>dic.get()</mark> to avoid error"
   ]
  },
  {
   "cell_type": "code",
   "execution_count": 7,
   "id": "b3217dec",
   "metadata": {},
   "outputs": [],
   "source": [
    "#no error\n",
    "\n",
    "user_info.get('hobby')"
   ]
  },
  {
   "cell_type": "code",
   "execution_count": 8,
   "id": "676d5f87",
   "metadata": {},
   "outputs": [],
   "source": [
    "user_info['hobby'] = ['Singing', 'Cricket', 'Coding']"
   ]
  },
  {
   "cell_type": "code",
   "execution_count": 9,
   "id": "0e344161",
   "metadata": {},
   "outputs": [
    {
     "name": "stdout",
     "output_type": "stream",
     "text": [
      "{'name': 'John Doe', 'age': 36, 'nationality': 'Indian', 'hobby': ['Singing', 'Cricket', 'Coding']}\n"
     ]
    }
   ],
   "source": [
    "print(user_info)"
   ]
  },
  {
   "cell_type": "code",
   "execution_count": 10,
   "id": "2fb2c9a9",
   "metadata": {},
   "outputs": [
    {
     "data": {
      "text/plain": [
       "dict_keys(['name', 'age', 'nationality', 'hobby'])"
      ]
     },
     "execution_count": 10,
     "metadata": {},
     "output_type": "execute_result"
    }
   ],
   "source": [
    "#display all keys\n",
    "user_info.keys()"
   ]
  },
  {
   "cell_type": "code",
   "execution_count": 11,
   "id": "bb0514f0",
   "metadata": {},
   "outputs": [
    {
     "data": {
      "text/plain": [
       "dict_values(['John Doe', 36, 'Indian', ['Singing', 'Cricket', 'Coding']])"
      ]
     },
     "execution_count": 11,
     "metadata": {},
     "output_type": "execute_result"
    }
   ],
   "source": [
    "#display all values\n",
    "user_info.values()"
   ]
  },
  {
   "cell_type": "code",
   "execution_count": 12,
   "id": "bf7a8e57",
   "metadata": {},
   "outputs": [
    {
     "data": {
      "text/plain": [
       "dict_items([('name', 'John Doe'), ('age', 36), ('nationality', 'Indian'), ('hobby', ['Singing', 'Cricket', 'Coding'])])"
      ]
     },
     "execution_count": 12,
     "metadata": {},
     "output_type": "execute_result"
    }
   ],
   "source": [
    "#display (key,value) pair in puples\n",
    "user_info.items()"
   ]
  },
  {
   "cell_type": "code",
   "execution_count": 13,
   "id": "2ee7e75c",
   "metadata": {},
   "outputs": [
    {
     "name": "stdout",
     "output_type": "stream",
     "text": [
      "name  :  John Doe\n",
      "age  :  36\n",
      "nationality  :  Indian\n",
      "hobby  :  ['Singing', 'Cricket', 'Coding']\n"
     ]
    }
   ],
   "source": [
    "for k,v in user_info.items():\n",
    "    print(k,\" : \",v);"
   ]
  },
  {
   "cell_type": "code",
   "execution_count": 14,
   "id": "5a179c83",
   "metadata": {},
   "outputs": [
    {
     "data": {
      "text/plain": [
       "'Indian'"
      ]
     },
     "execution_count": 14,
     "metadata": {},
     "output_type": "execute_result"
    }
   ],
   "source": [
    "#delete key, value\n",
    "user_info.pop('nationality')"
   ]
  },
  {
   "cell_type": "code",
   "execution_count": 15,
   "id": "06ca96ea",
   "metadata": {},
   "outputs": [
    {
     "data": {
      "text/plain": [
       "{'name': 'John Doe', 'age': 36, 'hobby': ['Singing', 'Cricket', 'Coding']}"
      ]
     },
     "execution_count": 15,
     "metadata": {},
     "output_type": "execute_result"
    }
   ],
   "source": [
    "user_info"
   ]
  },
  {
   "cell_type": "code",
   "execution_count": 16,
   "id": "b3715eb6",
   "metadata": {},
   "outputs": [],
   "source": [
    "user_info['name'] = \"Harshul\""
   ]
  },
  {
   "cell_type": "code",
   "execution_count": 17,
   "id": "7002dd4c",
   "metadata": {},
   "outputs": [
    {
     "name": "stdout",
     "output_type": "stream",
     "text": [
      "{'name': 'Harshul', 'age': 36, 'hobby': ['Singing', 'Cricket', 'Coding']}\n"
     ]
    }
   ],
   "source": [
    "print(user_info)"
   ]
  }
 ],
 "metadata": {
  "kernelspec": {
   "display_name": "Python 3 (ipykernel)",
   "language": "python",
   "name": "python3"
  },
  "language_info": {
   "codemirror_mode": {
    "name": "ipython",
    "version": 3
   },
   "file_extension": ".py",
   "mimetype": "text/x-python",
   "name": "python",
   "nbconvert_exporter": "python",
   "pygments_lexer": "ipython3",
   "version": "3.9.13"
  }
 },
 "nbformat": 4,
 "nbformat_minor": 5
}
