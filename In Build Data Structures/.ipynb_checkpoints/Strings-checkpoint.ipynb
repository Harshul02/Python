{
 "cells": [
  {
   "cell_type": "markdown",
   "id": "7fa2c229",
   "metadata": {},
   "source": [
    "## Strings"
   ]
  },
  {
   "cell_type": "code",
   "execution_count": 1,
   "id": "130f34e2",
   "metadata": {},
   "outputs": [],
   "source": [
    "my_str = \"Welcome\""
   ]
  },
  {
   "cell_type": "code",
   "execution_count": 2,
   "id": "00c32248",
   "metadata": {},
   "outputs": [
    {
     "name": "stdout",
     "output_type": "stream",
     "text": [
      "Welcome\n",
      "<class 'str'>\n"
     ]
    }
   ],
   "source": [
    "print(my_str)\n",
    "print(type(my_str))"
   ]
  },
  {
   "cell_type": "markdown",
   "id": "cdfff471",
   "metadata": {},
   "source": [
    "## Indexing"
   ]
  },
  {
   "cell_type": "code",
   "execution_count": 3,
   "id": "137cf350",
   "metadata": {},
   "outputs": [
    {
     "name": "stdout",
     "output_type": "stream",
     "text": [
      "W\n",
      "e\n"
     ]
    }
   ],
   "source": [
    "print(my_str[0])\n",
    "print(my_str[1])"
   ]
  },
  {
   "cell_type": "code",
   "execution_count": 5,
   "id": "1b2e5af7",
   "metadata": {},
   "outputs": [
    {
     "name": "stdout",
     "output_type": "stream",
     "text": [
      "7\n"
     ]
    }
   ],
   "source": [
    "#Length of the string\n",
    "print(len(my_str))"
   ]
  },
  {
   "cell_type": "code",
   "execution_count": 6,
   "id": "67799ffa",
   "metadata": {},
   "outputs": [
    {
     "name": "stdout",
     "output_type": "stream",
     "text": [
      "e\n"
     ]
    }
   ],
   "source": [
    "print(my_str[len(my_str)-1])"
   ]
  },
  {
   "cell_type": "markdown",
   "id": "2cbb0d89",
   "metadata": {},
   "source": [
    "## Negative Indexing\n",
    "\n",
    "    -1 Last char\n",
    "    -2 Last second char\n",
    "    - and so on"
   ]
  },
  {
   "cell_type": "code",
   "execution_count": 7,
   "id": "4fc474ef",
   "metadata": {},
   "outputs": [
    {
     "name": "stdout",
     "output_type": "stream",
     "text": [
      "e\n"
     ]
    }
   ],
   "source": [
    "print(my_str[-1])"
   ]
  },
  {
   "cell_type": "markdown",
   "id": "d9bc8a88",
   "metadata": {},
   "source": [
    "## String Slicing\n",
    "    . Syntax: str[start_index, end_index+1]"
   ]
  },
  {
   "cell_type": "code",
   "execution_count": 8,
   "id": "8033a493",
   "metadata": {},
   "outputs": [
    {
     "name": "stdout",
     "output_type": "stream",
     "text": [
      "lcome\n"
     ]
    }
   ],
   "source": [
    "print(my_str[2:7])"
   ]
  },
  {
   "cell_type": "code",
   "execution_count": 9,
   "id": "9fd4fbb0",
   "metadata": {},
   "outputs": [
    {
     "name": "stdout",
     "output_type": "stream",
     "text": [
      "Welcome\n"
     ]
    }
   ],
   "source": [
    "print(my_str[:])"
   ]
  },
  {
   "cell_type": "code",
   "execution_count": 10,
   "id": "d5ef22df",
   "metadata": {},
   "outputs": [
    {
     "name": "stdout",
     "output_type": "stream",
     "text": [
      "Welcome\n"
     ]
    }
   ],
   "source": [
    "print(my_str)"
   ]
  },
  {
   "cell_type": "code",
   "execution_count": 11,
   "id": "85b285fd",
   "metadata": {},
   "outputs": [
    {
     "name": "stdout",
     "output_type": "stream",
     "text": [
      "Welco\n"
     ]
    }
   ],
   "source": [
    "print(my_str[:-2])"
   ]
  }
 ],
 "metadata": {
  "kernelspec": {
   "display_name": "Python 3 (ipykernel)",
   "language": "python",
   "name": "python3"
  },
  "language_info": {
   "codemirror_mode": {
    "name": "ipython",
    "version": 3
   },
   "file_extension": ".py",
   "mimetype": "text/x-python",
   "name": "python",
   "nbconvert_exporter": "python",
   "pygments_lexer": "ipython3",
   "version": "3.9.13"
  }
 },
 "nbformat": 4,
 "nbformat_minor": 5
}
