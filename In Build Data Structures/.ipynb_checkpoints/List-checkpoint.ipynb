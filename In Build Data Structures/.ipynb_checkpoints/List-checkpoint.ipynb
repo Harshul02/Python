{
 "cells": [
  {
   "cell_type": "markdown",
   "id": "0c76d309",
   "metadata": {},
   "source": [
    "# List\n",
    "    -ordered\n",
    "    -indexable\n",
    "    -mutable\n",
    "    -can store heterogeneous elements"
   ]
  },
  {
   "cell_type": "code",
   "execution_count": 1,
   "id": "2902169b",
   "metadata": {},
   "outputs": [],
   "source": [
    "my_list = [6,3,2,8,4]"
   ]
  },
  {
   "cell_type": "code",
   "execution_count": 2,
   "id": "63564a93",
   "metadata": {},
   "outputs": [
    {
     "name": "stdout",
     "output_type": "stream",
     "text": [
      "[6, 3, 2, 8, 4]\n"
     ]
    }
   ],
   "source": [
    "print(my_list)"
   ]
  },
  {
   "cell_type": "code",
   "execution_count": 3,
   "id": "a2444c94",
   "metadata": {},
   "outputs": [
    {
     "data": {
      "text/plain": [
       "list"
      ]
     },
     "execution_count": 3,
     "metadata": {},
     "output_type": "execute_result"
    }
   ],
   "source": [
    "type(my_list)"
   ]
  },
  {
   "cell_type": "markdown",
   "id": "ccd2c225",
   "metadata": {},
   "source": [
    "### Indexing of List works same as strings"
   ]
  },
  {
   "cell_type": "code",
   "execution_count": 5,
   "id": "6bcb6932",
   "metadata": {},
   "outputs": [
    {
     "name": "stdout",
     "output_type": "stream",
     "text": [
      "6 4 [3, 2, 8]\n"
     ]
    }
   ],
   "source": [
    "print(my_list[0], my_list[-1], my_list[1:-1])"
   ]
  },
  {
   "cell_type": "code",
   "execution_count": 6,
   "id": "a9b2e4d0",
   "metadata": {},
   "outputs": [
    {
     "name": "stdout",
     "output_type": "stream",
     "text": [
      "[99, 3, 2, 8, 4]\n"
     ]
    }
   ],
   "source": [
    "#because of mutable property\n",
    "my_list[0] = 99\n",
    "print(my_list)"
   ]
  },
  {
   "cell_type": "markdown",
   "id": "30688fac",
   "metadata": {},
   "source": [
    "### Some important methods for lists"
   ]
  },
  {
   "cell_type": "code",
   "execution_count": 8,
   "id": "527d2fd2",
   "metadata": {},
   "outputs": [
    {
     "name": "stdout",
     "output_type": "stream",
     "text": [
      "[99, 3, 2, 8, 4, 33]\n"
     ]
    }
   ],
   "source": [
    "#Add element at the end of the list\n",
    "my_list.append(33)\n",
    "\n",
    "print(my_list)"
   ]
  },
  {
   "cell_type": "code",
   "execution_count": 9,
   "id": "909e2fdb",
   "metadata": {},
   "outputs": [
    {
     "name": "stdout",
     "output_type": "stream",
     "text": [
      "[99, 88, 3, 2, 8, 4, 33]\n"
     ]
    }
   ],
   "source": [
    "#insert 88 at index 1\n",
    "my_list.insert(1,88)\n",
    "print(my_list)"
   ]
  },
  {
   "cell_type": "code",
   "execution_count": 10,
   "id": "41dbcb93",
   "metadata": {},
   "outputs": [
    {
     "name": "stdout",
     "output_type": "stream",
     "text": [
      "[99, 88, 3, 2, 8, 4]\n"
     ]
    }
   ],
   "source": [
    "#delete the last element.\n",
    "#pop function can also take index if you want\n",
    "my_list.pop()\n",
    "print(my_list)"
   ]
  },
  {
   "cell_type": "code",
   "execution_count": 11,
   "id": "abb0dba5",
   "metadata": {},
   "outputs": [
    {
     "data": {
      "text/plain": [
       "3"
      ]
     },
     "execution_count": 11,
     "metadata": {},
     "output_type": "execute_result"
    }
   ],
   "source": [
    "my_list.pop(2)"
   ]
  },
  {
   "cell_type": "code",
   "execution_count": 12,
   "id": "23714f69",
   "metadata": {},
   "outputs": [
    {
     "name": "stdout",
     "output_type": "stream",
     "text": [
      "[99, 88, 2, 8, 4]\n"
     ]
    }
   ],
   "source": [
    "print(my_list)"
   ]
  },
  {
   "cell_type": "code",
   "execution_count": 13,
   "id": "3b9c8296",
   "metadata": {},
   "outputs": [
    {
     "name": "stdout",
     "output_type": "stream",
     "text": [
      "[4, 8, 2, 88, 99]\n"
     ]
    }
   ],
   "source": [
    "#reverse a list\n",
    "my_list.reverse()\n",
    "print(my_list)"
   ]
  },
  {
   "cell_type": "code",
   "execution_count": 14,
   "id": "b3ff5dfb",
   "metadata": {},
   "outputs": [
    {
     "name": "stdout",
     "output_type": "stream",
     "text": [
      "[2, 4, 8, 88, 99]\n"
     ]
    }
   ],
   "source": [
    "#sort in ascending order\n",
    "my_list.sort()\n",
    "print(my_list)"
   ]
  },
  {
   "cell_type": "code",
   "execution_count": 15,
   "id": "f7f31527",
   "metadata": {},
   "outputs": [
    {
     "name": "stdout",
     "output_type": "stream",
     "text": [
      "[99, 88, 8, 4, 2]\n"
     ]
    }
   ],
   "source": [
    "#sort in descending order\n",
    "my_list.sort(reverse=True)\n",
    "print(my_list)"
   ]
  },
  {
   "cell_type": "code",
   "execution_count": 16,
   "id": "7791f631",
   "metadata": {},
   "outputs": [
    {
     "data": {
      "text/plain": [
       "True"
      ]
     },
     "execution_count": 16,
     "metadata": {},
     "output_type": "execute_result"
    }
   ],
   "source": [
    "#in operator\n",
    "99 in my_list"
   ]
  },
  {
   "cell_type": "code",
   "execution_count": 17,
   "id": "e13c30f3",
   "metadata": {},
   "outputs": [
    {
     "name": "stdout",
     "output_type": "stream",
     "text": [
      "99\n",
      "88\n",
      "8\n",
      "4\n",
      "2\n"
     ]
    }
   ],
   "source": [
    "#iterating over the elements of list and taking their swuares\n",
    "for ele in my_list:\n",
    "    print(ele)"
   ]
  }
 ],
 "metadata": {
  "kernelspec": {
   "display_name": "Python 3 (ipykernel)",
   "language": "python",
   "name": "python3"
  },
  "language_info": {
   "codemirror_mode": {
    "name": "ipython",
    "version": 3
   },
   "file_extension": ".py",
   "mimetype": "text/x-python",
   "name": "python",
   "nbconvert_exporter": "python",
   "pygments_lexer": "ipython3",
   "version": "3.9.13"
  }
 },
 "nbformat": 4,
 "nbformat_minor": 5
}
