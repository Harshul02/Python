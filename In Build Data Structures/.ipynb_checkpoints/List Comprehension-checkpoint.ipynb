{
 "cells": [
  {
   "cell_type": "markdown",
   "id": "7f95cb26",
   "metadata": {},
   "source": [
    "# List Comprehension"
   ]
  },
  {
   "cell_type": "code",
   "execution_count": 1,
   "id": "796cb740",
   "metadata": {},
   "outputs": [
    {
     "name": "stdout",
     "output_type": "stream",
     "text": [
      "[6, 3, 2, 8, 4]\n"
     ]
    }
   ],
   "source": [
    "my_list = [6,3,2,8,4]\n",
    "print(my_list)"
   ]
  },
  {
   "cell_type": "code",
   "execution_count": 3,
   "id": "9a3e35af",
   "metadata": {},
   "outputs": [
    {
     "name": "stdout",
     "output_type": "stream",
     "text": [
      "[36, 9, 4, 64, 16]\n"
     ]
    }
   ],
   "source": [
    "#creating a new list of squares of each elements\n",
    "new_list = []\n",
    "\n",
    "for ele in my_list:\n",
    "    new_list.append(ele**2)\n",
    "\n",
    "print(new_list)"
   ]
  },
  {
   "cell_type": "code",
   "execution_count": 4,
   "id": "c53f7ed4",
   "metadata": {},
   "outputs": [
    {
     "name": "stdout",
     "output_type": "stream",
     "text": [
      "[36, 9, 4, 64, 16]\n"
     ]
    }
   ],
   "source": [
    "## list comprehension\n",
    "new_list2 = [ele**2 for ele in my_list]\n",
    "\n",
    "print(new_list2)"
   ]
  },
  {
   "cell_type": "code",
   "execution_count": 5,
   "id": "4c30a5dc",
   "metadata": {},
   "outputs": [
    {
     "name": "stdout",
     "output_type": "stream",
     "text": [
      "[4, True, 98.4, [9, 6, 3], 'Python', 100]\n"
     ]
    }
   ],
   "source": [
    "my_list_2 = [4,True, 98.4, [9, 6, 3], \"Python\", 100]\n",
    "\n",
    "print(my_list_2)"
   ]
  },
  {
   "cell_type": "code",
   "execution_count": 6,
   "id": "36291d67",
   "metadata": {},
   "outputs": [
    {
     "name": "stdout",
     "output_type": "stream",
     "text": [
      "[9, 6, 3]\n"
     ]
    }
   ],
   "source": [
    "print(my_list_2[3])"
   ]
  },
  {
   "cell_type": "code",
   "execution_count": 8,
   "id": "5a8cbe9b",
   "metadata": {},
   "outputs": [
    {
     "name": "stdout",
     "output_type": "stream",
     "text": [
      "9\n"
     ]
    }
   ],
   "source": [
    "print(my_list_2[3][0])"
   ]
  },
  {
   "cell_type": "code",
   "execution_count": 10,
   "id": "9d1b4175",
   "metadata": {},
   "outputs": [
    {
     "name": "stdout",
     "output_type": "stream",
     "text": [
      "6\n"
     ]
    }
   ],
   "source": [
    "print(len(my_list_2))"
   ]
  },
  {
   "cell_type": "code",
   "execution_count": 15,
   "id": "7032b7f2",
   "metadata": {},
   "outputs": [
    {
     "name": "stdout",
     "output_type": "stream",
     "text": [
      "[[1, 2, 3], [4, 5, 6], [7, 8, 9]]\n",
      "3\n",
      "3\n",
      "[4, 5, 6]\n",
      "6\n"
     ]
    }
   ],
   "source": [
    "list_2d = [[1,2,3], [4,5,6], [7,8,9]]\n",
    "\n",
    "print(list_2d)\n",
    "print(len(list_2d))\n",
    "print(len(list_2d[0]))\n",
    "print(list_2d[1])\n",
    "print(list_2d[1][2])"
   ]
  }
 ],
 "metadata": {
  "kernelspec": {
   "display_name": "Python 3 (ipykernel)",
   "language": "python",
   "name": "python3"
  },
  "language_info": {
   "codemirror_mode": {
    "name": "ipython",
    "version": 3
   },
   "file_extension": ".py",
   "mimetype": "text/x-python",
   "name": "python",
   "nbconvert_exporter": "python",
   "pygments_lexer": "ipython3",
   "version": "3.9.13"
  }
 },
 "nbformat": 4,
 "nbformat_minor": 5
}
