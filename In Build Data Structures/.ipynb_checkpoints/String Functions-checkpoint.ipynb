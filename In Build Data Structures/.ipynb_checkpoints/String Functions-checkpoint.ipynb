{
 "cells": [
  {
   "cell_type": "markdown",
   "id": "9af9f121",
   "metadata": {},
   "source": [
    "# Important Methods related to Strings"
   ]
  },
  {
   "cell_type": "code",
   "execution_count": 1,
   "id": "ea8a6e22",
   "metadata": {},
   "outputs": [],
   "source": [
    "my_str = \"Welcome to Everyone\""
   ]
  },
  {
   "cell_type": "code",
   "execution_count": 3,
   "id": "fd3fd0bd",
   "metadata": {},
   "outputs": [
    {
     "data": {
      "text/plain": [
       "'welcome to everyone'"
      ]
     },
     "execution_count": 3,
     "metadata": {},
     "output_type": "execute_result"
    }
   ],
   "source": [
    "#converts everythin to the upper case\n",
    "my_str.lower()"
   ]
  },
  {
   "cell_type": "code",
   "execution_count": 4,
   "id": "97147ada",
   "metadata": {},
   "outputs": [
    {
     "data": {
      "text/plain": [
       "'WELCOME TO EVERYONE'"
      ]
     },
     "execution_count": 4,
     "metadata": {},
     "output_type": "execute_result"
    }
   ],
   "source": [
    "#converts everything to the upper case\n",
    "my_str.upper()"
   ]
  },
  {
   "cell_type": "code",
   "execution_count": 5,
   "id": "f44c6b39",
   "metadata": {},
   "outputs": [
    {
     "data": {
      "text/plain": [
       "'Welcome To Everyone'"
      ]
     },
     "execution_count": 5,
     "metadata": {},
     "output_type": "execute_result"
    }
   ],
   "source": [
    "#Capital first letter of each word\n",
    "my_str.title()"
   ]
  },
  {
   "cell_type": "code",
   "execution_count": 12,
   "id": "1e576eb1",
   "metadata": {},
   "outputs": [
    {
     "data": {
      "text/plain": [
       "8"
      ]
     },
     "execution_count": 12,
     "metadata": {},
     "output_type": "execute_result"
    }
   ],
   "source": [
    "#returns the index of the first occurrence of the word, -1 otherwise\n",
    "my_str.find(\"to\")"
   ]
  },
  {
   "cell_type": "code",
   "execution_count": 13,
   "id": "09e71ed5",
   "metadata": {},
   "outputs": [
    {
     "data": {
      "text/plain": [
       "['Welcome', 'to', 'Everyone']"
      ]
     },
     "execution_count": 13,
     "metadata": {},
     "output_type": "execute_result"
    }
   ],
   "source": [
    "#split the string with spaces \" \" and creates a list\n",
    "my_str.split()"
   ]
  },
  {
   "cell_type": "code",
   "execution_count": 14,
   "id": "fe1252ef",
   "metadata": {},
   "outputs": [
    {
     "data": {
      "text/plain": [
       "'W'"
      ]
     },
     "execution_count": 14,
     "metadata": {},
     "output_type": "execute_result"
    }
   ],
   "source": [
    "my_str[0]"
   ]
  },
  {
   "cell_type": "code",
   "execution_count": 15,
   "id": "8d20646b",
   "metadata": {},
   "outputs": [
    {
     "data": {
      "text/plain": [
       "'Welcome'"
      ]
     },
     "execution_count": 15,
     "metadata": {},
     "output_type": "execute_result"
    }
   ],
   "source": [
    "my_str.split()[0]"
   ]
  },
  {
   "cell_type": "markdown",
   "id": "c3fba021",
   "metadata": {},
   "source": [
    "### Few operations on String"
   ]
  },
  {
   "cell_type": "code",
   "execution_count": 16,
   "id": "77ab703c",
   "metadata": {},
   "outputs": [
    {
     "data": {
      "text/plain": [
       "'abcpqr'"
      ]
     },
     "execution_count": 16,
     "metadata": {},
     "output_type": "execute_result"
    }
   ],
   "source": [
    "#concatenation of 2 string\n",
    "\"abc\" + \"pqr\""
   ]
  },
  {
   "cell_type": "code",
   "execution_count": 17,
   "id": "9f85171e",
   "metadata": {},
   "outputs": [
    {
     "ename": "TypeError",
     "evalue": "can only concatenate str (not \"int\") to str",
     "output_type": "error",
     "traceback": [
      "\u001b[1;31m---------------------------------------------------------------------------\u001b[0m",
      "\u001b[1;31mTypeError\u001b[0m                                 Traceback (most recent call last)",
      "\u001b[1;32m~\\AppData\\Local\\Temp\\ipykernel_13564\\1463805449.py\u001b[0m in \u001b[0;36m<module>\u001b[1;34m\u001b[0m\n\u001b[1;32m----> 1\u001b[1;33m \u001b[1;34m\"abc\"\u001b[0m \u001b[1;33m+\u001b[0m \u001b[1;36m1\u001b[0m\u001b[1;33m\u001b[0m\u001b[1;33m\u001b[0m\u001b[0m\n\u001b[0m",
      "\u001b[1;31mTypeError\u001b[0m: can only concatenate str (not \"int\") to str"
     ]
    }
   ],
   "source": [
    "\"abc\" + 1"
   ]
  },
  {
   "cell_type": "code",
   "execution_count": 19,
   "id": "d7e7310c",
   "metadata": {},
   "outputs": [
    {
     "data": {
      "text/plain": [
       "'abc1'"
      ]
     },
     "execution_count": 19,
     "metadata": {},
     "output_type": "execute_result"
    }
   ],
   "source": [
    "#type conversion in the way\n",
    "\"abc\" + str(1)"
   ]
  },
  {
   "cell_type": "code",
   "execution_count": 20,
   "id": "c4d380d3",
   "metadata": {},
   "outputs": [
    {
     "data": {
      "text/plain": [
       "'hellohellohellohello'"
      ]
     },
     "execution_count": 20,
     "metadata": {},
     "output_type": "execute_result"
    }
   ],
   "source": [
    "#Multiplication of string with int n results into repetition string\n",
    "\"hello\"*4"
   ]
  }
 ],
 "metadata": {
  "kernelspec": {
   "display_name": "Python 3 (ipykernel)",
   "language": "python",
   "name": "python3"
  },
  "language_info": {
   "codemirror_mode": {
    "name": "ipython",
    "version": 3
   },
   "file_extension": ".py",
   "mimetype": "text/x-python",
   "name": "python",
   "nbconvert_exporter": "python",
   "pygments_lexer": "ipython3",
   "version": "3.9.13"
  }
 },
 "nbformat": 4,
 "nbformat_minor": 5
}
