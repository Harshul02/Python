{
 "cells": [
  {
   "cell_type": "markdown",
   "id": "5e2d414f",
   "metadata": {},
   "source": [
    "# Set\n",
    "    - contains only unique elements\n",
    "    - mutable\n",
    "    - unordered\n",
    "    - unindexable"
   ]
  },
  {
   "cell_type": "code",
   "execution_count": 1,
   "id": "fe50b729",
   "metadata": {},
   "outputs": [],
   "source": [
    "my_set = {9, 7, 7, 1, 8, 9, 7, 5, 1}"
   ]
  },
  {
   "cell_type": "code",
   "execution_count": 2,
   "id": "3a610fa4",
   "metadata": {},
   "outputs": [
    {
     "name": "stdout",
     "output_type": "stream",
     "text": [
      "{1, 5, 7, 8, 9}\n"
     ]
    }
   ],
   "source": [
    "#No duplicate elements\n",
    "print(my_set)"
   ]
  },
  {
   "cell_type": "code",
   "execution_count": 3,
   "id": "ce101f33",
   "metadata": {},
   "outputs": [
    {
     "data": {
      "text/plain": [
       "set"
      ]
     },
     "execution_count": 3,
     "metadata": {},
     "output_type": "execute_result"
    }
   ],
   "source": [
    "type(my_set)"
   ]
  },
  {
   "cell_type": "code",
   "execution_count": 4,
   "id": "a48d834b",
   "metadata": {},
   "outputs": [
    {
     "name": "stdout",
     "output_type": "stream",
     "text": [
      "{1, 99, 5, 7, 8, 9}\n",
      "{1, 99, 5, 7, 8, 9}\n"
     ]
    }
   ],
   "source": [
    "#No matter how many times you add same element, it will available only once\n",
    "my_set.add(99)\n",
    "\n",
    "print(my_set)\n",
    "\n",
    "my_set.add(99)\n",
    "print(my_set)"
   ]
  },
  {
   "cell_type": "code",
   "execution_count": 5,
   "id": "bc637571",
   "metadata": {},
   "outputs": [
    {
     "name": "stdout",
     "output_type": "stream",
     "text": [
      "{1, 99, 5, 7, 9}\n"
     ]
    }
   ],
   "source": [
    "#remove elements from set\n",
    "my_set.remove(8)\n",
    "print(my_set)"
   ]
  },
  {
   "cell_type": "markdown",
   "id": "69022800",
   "metadata": {},
   "source": [
    "### Remove Duplicate Numbers from a list"
   ]
  },
  {
   "cell_type": "code",
   "execution_count": 6,
   "id": "7833ae50",
   "metadata": {},
   "outputs": [],
   "source": [
    "some_list = [6,3,7,6,4,1,0,9,2,1,0,8,6,4,7]"
   ]
  },
  {
   "cell_type": "code",
   "execution_count": 7,
   "id": "c9490ee8",
   "metadata": {},
   "outputs": [
    {
     "name": "stdout",
     "output_type": "stream",
     "text": [
      "[6, 3, 7, 6, 4, 1, 0, 9, 2, 1, 0, 8, 6, 4, 7]\n"
     ]
    }
   ],
   "source": [
    "print(some_list)"
   ]
  },
  {
   "cell_type": "code",
   "execution_count": 8,
   "id": "f37921a1",
   "metadata": {},
   "outputs": [
    {
     "name": "stdout",
     "output_type": "stream",
     "text": [
      "{0, 1, 2, 3, 4, 6, 7, 8, 9}\n"
     ]
    }
   ],
   "source": [
    "my_new_set = set(some_list)\n",
    "print(my_new_set)"
   ]
  },
  {
   "cell_type": "code",
   "execution_count": 9,
   "id": "8edc10dd",
   "metadata": {},
   "outputs": [],
   "source": [
    "some_list = list(my_new_set)"
   ]
  },
  {
   "cell_type": "code",
   "execution_count": 10,
   "id": "d8fd162e",
   "metadata": {},
   "outputs": [
    {
     "name": "stdout",
     "output_type": "stream",
     "text": [
      "[0, 1, 2, 3, 4, 6, 7, 8, 9]\n"
     ]
    }
   ],
   "source": [
    "print(some_list)"
   ]
  }
 ],
 "metadata": {
  "kernelspec": {
   "display_name": "Python 3 (ipykernel)",
   "language": "python",
   "name": "python3"
  },
  "language_info": {
   "codemirror_mode": {
    "name": "ipython",
    "version": 3
   },
   "file_extension": ".py",
   "mimetype": "text/x-python",
   "name": "python",
   "nbconvert_exporter": "python",
   "pygments_lexer": "ipython3",
   "version": "3.9.13"
  }
 },
 "nbformat": 4,
 "nbformat_minor": 5
}
