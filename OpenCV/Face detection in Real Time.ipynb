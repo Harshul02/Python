{
 "cells": [
  {
   "cell_type": "markdown",
   "id": "9b85c292",
   "metadata": {},
   "source": [
    "# Face Detection in Real Time"
   ]
  },
  {
   "cell_type": "code",
   "execution_count": 1,
   "id": "12e1f479",
   "metadata": {},
   "outputs": [],
   "source": [
    "import cv2"
   ]
  },
  {
   "cell_type": "code",
   "execution_count": 2,
   "id": "7bbca293",
   "metadata": {},
   "outputs": [],
   "source": [
    "detector = cv2.CascadeClassifier('./haarcascade_frontalface_default.xml')"
   ]
  },
  {
   "cell_type": "code",
   "execution_count": 3,
   "id": "5106fff3",
   "metadata": {},
   "outputs": [],
   "source": [
    "cam = cv2.VideoCapture(0)\n",
    "\n",
    "while True:\n",
    "    ret, frame = cam.read()\n",
    "    \n",
    "    if ret == False:\n",
    "        continue\n",
    "    \n",
    "    all_faces = detector.detectMultiScale(frame, 1.5, 5)\n",
    "    \n",
    "    for face in all_faces:\n",
    "        x,y,w,h = face\n",
    "        cv2.rectangle(frame, (x,y), (x+w, y+h), (255,0,0), 8)\n",
    "        \n",
    "    #this will show the frame\n",
    "    cv2.imshow(\"Face Detection\", frame)\n",
    "    \n",
    "    #finding which key you've pressed\n",
    "    key_pressed = cv2.waitKey(1) & 0xFF\n",
    "    if key_pressed == ord('q'):\n",
    "        break\n",
    "        \n",
    "cam.release()\n",
    "cv2.destroyAllWindows()"
   ]
  }
 ],
 "metadata": {
  "kernelspec": {
   "display_name": "Python 3 (ipykernel)",
   "language": "python",
   "name": "python3"
  },
  "language_info": {
   "codemirror_mode": {
    "name": "ipython",
    "version": 3
   },
   "file_extension": ".py",
   "mimetype": "text/x-python",
   "name": "python",
   "nbconvert_exporter": "python",
   "pygments_lexer": "ipython3",
   "version": "3.9.13"
  }
 },
 "nbformat": 4,
 "nbformat_minor": 5
}
