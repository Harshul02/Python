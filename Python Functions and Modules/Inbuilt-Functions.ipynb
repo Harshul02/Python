{
 "cells": [
  {
   "cell_type": "markdown",
   "id": "48d3b07e",
   "metadata": {},
   "source": [
    "<ul><b><h2>Built-In Functions</h2></b>\n",
    "        <li>print()</li>\n",
    "        <li>abs()</li>\n",
    "        <li>round()</li>\n",
    "        <li>Aggregation functions : sum(), max(), min()</li>\n",
    "        <li>filter()</li>\n",
    "        <li>map()</li>\n",
    "    </ul>\n",
    "    "
   ]
  },
  {
   "cell_type": "code",
   "execution_count": 1,
   "id": "d5b84005",
   "metadata": {},
   "outputs": [
    {
     "data": {
      "text/plain": [
       "4.5"
      ]
     },
     "execution_count": 1,
     "metadata": {},
     "output_type": "execute_result"
    }
   ],
   "source": [
    "abs(-4.5)"
   ]
  },
  {
   "cell_type": "code",
   "execution_count": 2,
   "id": "7e0b9e07",
   "metadata": {},
   "outputs": [
    {
     "data": {
      "text/plain": [
       "5.68"
      ]
     },
     "execution_count": 2,
     "metadata": {},
     "output_type": "execute_result"
    }
   ],
   "source": [
    "round(5.678,2)"
   ]
  },
  {
   "cell_type": "code",
   "execution_count": 3,
   "id": "1cc41a20",
   "metadata": {},
   "outputs": [],
   "source": [
    "lst=[3,2,1,5,4,8,6]"
   ]
  },
  {
   "cell_type": "code",
   "execution_count": 4,
   "id": "1a19a823",
   "metadata": {},
   "outputs": [
    {
     "data": {
      "text/plain": [
       "29"
      ]
     },
     "execution_count": 4,
     "metadata": {},
     "output_type": "execute_result"
    }
   ],
   "source": [
    "sum(lst)"
   ]
  },
  {
   "cell_type": "code",
   "execution_count": 5,
   "id": "74bfdcfe",
   "metadata": {},
   "outputs": [
    {
     "data": {
      "text/plain": [
       "8"
      ]
     },
     "execution_count": 5,
     "metadata": {},
     "output_type": "execute_result"
    }
   ],
   "source": [
    "max(lst)"
   ]
  },
  {
   "cell_type": "code",
   "execution_count": 6,
   "id": "75f0a47c",
   "metadata": {},
   "outputs": [
    {
     "data": {
      "text/plain": [
       "1"
      ]
     },
     "execution_count": 6,
     "metadata": {},
     "output_type": "execute_result"
    }
   ],
   "source": [
    "min(lst)"
   ]
  },
  {
   "cell_type": "markdown",
   "id": "b9e593fd",
   "metadata": {},
   "source": [
    "### Map"
   ]
  },
  {
   "cell_type": "code",
   "execution_count": 7,
   "id": "c3a1d93e",
   "metadata": {},
   "outputs": [],
   "source": [
    "def add_one(x):\n",
    "    return x+1"
   ]
  },
  {
   "cell_type": "code",
   "execution_count": 8,
   "id": "0d1fae61",
   "metadata": {},
   "outputs": [
    {
     "data": {
      "text/plain": [
       "101"
      ]
     },
     "execution_count": 8,
     "metadata": {},
     "output_type": "execute_result"
    }
   ],
   "source": [
    "add_one(100)"
   ]
  },
  {
   "cell_type": "code",
   "execution_count": 9,
   "id": "98d857ef",
   "metadata": {},
   "outputs": [
    {
     "name": "stdout",
     "output_type": "stream",
     "text": [
      "<map object at 0x000001A7954936D0>\n"
     ]
    }
   ],
   "source": [
    "map_ele = map(add_one, lst)\n",
    "print(map_ele)"
   ]
  },
  {
   "cell_type": "code",
   "execution_count": 11,
   "id": "c16906b3",
   "metadata": {},
   "outputs": [
    {
     "name": "stdout",
     "output_type": "stream",
     "text": [
      "[4, 3, 2, 6, 5, 9, 7]\n"
     ]
    }
   ],
   "source": [
    "print(list(map_ele))"
   ]
  },
  {
   "cell_type": "markdown",
   "id": "36729c14",
   "metadata": {},
   "source": [
    "### Filter"
   ]
  },
  {
   "cell_type": "code",
   "execution_count": 12,
   "id": "e0700987",
   "metadata": {},
   "outputs": [],
   "source": [
    "def is_even(x):\n",
    "    return x%2==0"
   ]
  },
  {
   "cell_type": "code",
   "execution_count": 15,
   "id": "3a4d9bd9",
   "metadata": {},
   "outputs": [
    {
     "data": {
      "text/plain": [
       "True"
      ]
     },
     "execution_count": 15,
     "metadata": {},
     "output_type": "execute_result"
    }
   ],
   "source": [
    "is_even(6)"
   ]
  },
  {
   "cell_type": "code",
   "execution_count": 16,
   "id": "82265ff2",
   "metadata": {},
   "outputs": [
    {
     "name": "stdout",
     "output_type": "stream",
     "text": [
      "<filter object at 0x000001A7954939A0>\n"
     ]
    }
   ],
   "source": [
    "filter_ele=filter(is_even, lst)\n",
    "\n",
    "print(filter_ele)"
   ]
  },
  {
   "cell_type": "code",
   "execution_count": 17,
   "id": "ad712de6",
   "metadata": {},
   "outputs": [
    {
     "name": "stdout",
     "output_type": "stream",
     "text": [
      "[2, 4, 8, 6]\n"
     ]
    }
   ],
   "source": [
    "print(list(filter_ele))"
   ]
  }
 ],
 "metadata": {
  "kernelspec": {
   "display_name": "Python 3 (ipykernel)",
   "language": "python",
   "name": "python3"
  },
  "language_info": {
   "codemirror_mode": {
    "name": "ipython",
    "version": 3
   },
   "file_extension": ".py",
   "mimetype": "text/x-python",
   "name": "python",
   "nbconvert_exporter": "python",
   "pygments_lexer": "ipython3",
   "version": "3.9.13"
  }
 },
 "nbformat": 4,
 "nbformat_minor": 5
}
