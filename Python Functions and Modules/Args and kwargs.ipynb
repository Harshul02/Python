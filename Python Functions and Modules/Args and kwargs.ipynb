{
 "cells": [
  {
   "cell_type": "markdown",
   "id": "af8b63d4",
   "metadata": {},
   "source": [
    "<strong>arbitrary arguments</strong> : It can receive, any number of arguments"
   ]
  },
  {
   "cell_type": "code",
   "execution_count": 7,
   "id": "8b385776",
   "metadata": {},
   "outputs": [],
   "source": [
    "def random_func(*args):\n",
    "    print(args)\n",
    "    print(type(args))\n",
    "    for i in args:\n",
    "        print(i**2)"
   ]
  },
  {
   "cell_type": "code",
   "execution_count": 8,
   "id": "51caae04",
   "metadata": {},
   "outputs": [
    {
     "name": "stdout",
     "output_type": "stream",
     "text": [
      "(10, 8, 3, 2)\n",
      "<class 'tuple'>\n",
      "100\n",
      "64\n",
      "9\n",
      "4\n"
     ]
    }
   ],
   "source": [
    "random_func(10,8,3,2)"
   ]
  },
  {
   "cell_type": "markdown",
   "id": "6f82f77f",
   "metadata": {},
   "source": [
    "<strong>keyword arguments :</strong> it also takes any number of arguments and stores in form of dictionary. Parameter name is mandatory while calling function"
   ]
  },
  {
   "cell_type": "code",
   "execution_count": 9,
   "id": "ae5b1d37",
   "metadata": {},
   "outputs": [],
   "source": [
    "def introduction(**kwargs):\n",
    "    print(kwargs)\n",
    "    print(type(kwargs))\n",
    "    \n",
    "    for k,v in kwargs.items():\n",
    "        print(k, \" : \", v)"
   ]
  },
  {
   "cell_type": "code",
   "execution_count": 10,
   "id": "5ecb7868",
   "metadata": {},
   "outputs": [
    {
     "name": "stdout",
     "output_type": "stream",
     "text": [
      "{'name': 'Harshul', 'age': 21, 'hobby': ['singing', 'coding'], 'nationality': 'Indian'}\n",
      "<class 'dict'>\n",
      "name  :  Harshul\n",
      "age  :  21\n",
      "hobby  :  ['singing', 'coding']\n",
      "nationality  :  Indian\n"
     ]
    }
   ],
   "source": [
    "introduction(name=\"Harshul\", age=21, hobby=[\"singing\", \"coding\"], nationality=\"Indian\")"
   ]
  },
  {
   "cell_type": "code",
   "execution_count": 11,
   "id": "756b68c7",
   "metadata": {},
   "outputs": [
    {
     "name": "stdout",
     "output_type": "stream",
     "text": [
      "{'name': 'Prateek', 'company': 'Google', 'age': 27}\n",
      "<class 'dict'>\n",
      "name  :  Prateek\n",
      "company  :  Google\n",
      "age  :  27\n"
     ]
    }
   ],
   "source": [
    "introduction(name=\"Prateek\", company=\"Google\", age=27)"
   ]
  }
 ],
 "metadata": {
  "kernelspec": {
   "display_name": "Python 3 (ipykernel)",
   "language": "python",
   "name": "python3"
  },
  "language_info": {
   "codemirror_mode": {
    "name": "ipython",
    "version": 3
   },
   "file_extension": ".py",
   "mimetype": "text/x-python",
   "name": "python",
   "nbconvert_exporter": "python",
   "pygments_lexer": "ipython3",
   "version": "3.9.13"
  }
 },
 "nbformat": 4,
 "nbformat_minor": 5
}
