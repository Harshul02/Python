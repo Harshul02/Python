{
 "cells": [
  {
   "cell_type": "markdown",
   "id": "d66c4218",
   "metadata": {},
   "source": [
    "# Function Arguments\n",
    "<b><li>Argument Vs. Parameters</li></b>\n",
    "    \n",
    "    - default arguments\n",
    "    - arbitrary arguments (args)\n",
    "    - keyword arguments (kwargs)\n",
    "    \n",
    "\n",
    "<strong>default parameters :</strong> parameters that have some default values. They're optional parameters."
   ]
  },
  {
   "cell_type": "code",
   "execution_count": 6,
   "id": "ef9ec126",
   "metadata": {},
   "outputs": [],
   "source": [
    "def intro(name, nationality=\"Indian\"):\n",
    "    print(\"Hello\", name)\n",
    "    print(\"I'm\", nationality)"
   ]
  },
  {
   "cell_type": "code",
   "execution_count": 7,
   "id": "1b6a1b4e",
   "metadata": {},
   "outputs": [
    {
     "name": "stdout",
     "output_type": "stream",
     "text": [
      "Hello Ramesh\n",
      "I'm Indian\n"
     ]
    }
   ],
   "source": [
    "#without giving nationality it still works\n",
    "intro('Ramesh')"
   ]
  },
  {
   "cell_type": "code",
   "execution_count": 8,
   "id": "df5f8b86",
   "metadata": {
    "scrolled": true
   },
   "outputs": [
    {
     "name": "stdout",
     "output_type": "stream",
     "text": [
      "Hello John\n",
      "I'm American\n"
     ]
    }
   ],
   "source": [
    "intro(\"John\", \"American\")"
   ]
  },
  {
   "cell_type": "code",
   "execution_count": null,
   "id": "6549b2f2",
   "metadata": {},
   "outputs": [],
   "source": []
  }
 ],
 "metadata": {
  "kernelspec": {
   "display_name": "Python 3 (ipykernel)",
   "language": "python",
   "name": "python3"
  },
  "language_info": {
   "codemirror_mode": {
    "name": "ipython",
    "version": 3
   },
   "file_extension": ".py",
   "mimetype": "text/x-python",
   "name": "python",
   "nbconvert_exporter": "python",
   "pygments_lexer": "ipython3",
   "version": "3.9.13"
  }
 },
 "nbformat": 4,
 "nbformat_minor": 5
}
