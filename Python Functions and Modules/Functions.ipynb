{
 "cells": [
  {
   "cell_type": "markdown",
   "id": "375033db",
   "metadata": {},
   "source": [
    "# Functions\n",
    "\n",
    " <b>- Built-in-Functions</b><br>\n",
    " <b>- User-Defined Functions</b>"
   ]
  },
  {
   "cell_type": "markdown",
   "id": "e27709f5",
   "metadata": {},
   "source": [
    "##### Syntax\n",
    "\n",
    "<mark>def func_name(params):\n",
    "    \n",
    "    statements...\n",
    "</mark>"
   ]
  },
  {
   "cell_type": "code",
   "execution_count": 1,
   "id": "ffb0abcf",
   "metadata": {},
   "outputs": [],
   "source": [
    "#function definition\n",
    "\n",
    "def greetings(name):\n",
    "    print(\"Good Morning \" + name)"
   ]
  },
  {
   "cell_type": "code",
   "execution_count": 2,
   "id": "24f4c64a",
   "metadata": {},
   "outputs": [
    {
     "name": "stdout",
     "output_type": "stream",
     "text": [
      "<function greetings at 0x0000022D12612700>\n",
      "<class 'function'>\n"
     ]
    }
   ],
   "source": [
    "print(greetings)\n",
    "\n",
    "print(type(greetings))"
   ]
  },
  {
   "cell_type": "code",
   "execution_count": 3,
   "id": "2367d679",
   "metadata": {},
   "outputs": [
    {
     "name": "stdout",
     "output_type": "stream",
     "text": [
      "Good Morning Mohit\n"
     ]
    }
   ],
   "source": [
    "#function calling\n",
    "greetings(\"Mohit\")"
   ]
  },
  {
   "cell_type": "code",
   "execution_count": 4,
   "id": "f1cdbb7f",
   "metadata": {},
   "outputs": [
    {
     "name": "stdout",
     "output_type": "stream",
     "text": [
      "Good Morning Prateek\n"
     ]
    }
   ],
   "source": [
    "greetings(\"Prateek\")"
   ]
  },
  {
   "cell_type": "code",
   "execution_count": 6,
   "id": "bc475a5c",
   "metadata": {},
   "outputs": [],
   "source": [
    "def add(a,b):\n",
    "    \"\"\"\n",
    "    this is a doc string.\n",
    "    \n",
    "    return sum of 2 numbers\n",
    "    \"\"\"\n",
    "    return (a+b)"
   ]
  },
  {
   "cell_type": "code",
   "execution_count": 7,
   "id": "708dd571",
   "metadata": {},
   "outputs": [
    {
     "data": {
      "text/plain": [
       "8"
      ]
     },
     "execution_count": 7,
     "metadata": {},
     "output_type": "execute_result"
    }
   ],
   "source": [
    "#it is not printing, it's a return value\n",
    "add(5,3)"
   ]
  },
  {
   "cell_type": "code",
   "execution_count": 8,
   "id": "52d4777d",
   "metadata": {},
   "outputs": [
    {
     "name": "stdout",
     "output_type": "stream",
     "text": [
      "8\n"
     ]
    }
   ],
   "source": [
    "c=add(5,3)\n",
    "print(c)"
   ]
  },
  {
   "cell_type": "code",
   "execution_count": 9,
   "id": "5b154922",
   "metadata": {},
   "outputs": [],
   "source": [
    "def product(lst):\n",
    "    \"\"\"\n",
    "    lst : it is a list\n",
    "    return : procuct of all elements in a list\n",
    "    \"\"\"\n",
    "    \n",
    "    s=1\n",
    "    for i in lst:\n",
    "        s=s*i\n",
    "        \n",
    "    return s"
   ]
  },
  {
   "cell_type": "code",
   "execution_count": 10,
   "id": "41c68a2e",
   "metadata": {},
   "outputs": [
    {
     "name": "stdout",
     "output_type": "stream",
     "text": [
      "120\n"
     ]
    }
   ],
   "source": [
    "res = product([2,5,3,1,4])\n",
    "print(res)"
   ]
  },
  {
   "cell_type": "markdown",
   "id": "9647bf19",
   "metadata": {},
   "source": [
    "### Function can return multiple values in form of a tuple"
   ]
  },
  {
   "cell_type": "code",
   "execution_count": 11,
   "id": "705fb130",
   "metadata": {},
   "outputs": [],
   "source": [
    "def calculator(a,b):\n",
    "    return(a+b, a-b, a*b, a/b)"
   ]
  },
  {
   "cell_type": "code",
   "execution_count": 12,
   "id": "5f229146",
   "metadata": {},
   "outputs": [],
   "source": [
    "cal_res = calculator(10,2)"
   ]
  },
  {
   "cell_type": "code",
   "execution_count": 13,
   "id": "891e3069",
   "metadata": {},
   "outputs": [
    {
     "name": "stdout",
     "output_type": "stream",
     "text": [
      "(12, 8, 20, 5.0)\n"
     ]
    }
   ],
   "source": [
    "print(cal_res)"
   ]
  }
 ],
 "metadata": {
  "kernelspec": {
   "display_name": "Python 3 (ipykernel)",
   "language": "python",
   "name": "python3"
  },
  "language_info": {
   "codemirror_mode": {
    "name": "ipython",
    "version": 3
   },
   "file_extension": ".py",
   "mimetype": "text/x-python",
   "name": "python",
   "nbconvert_exporter": "python",
   "pygments_lexer": "ipython3",
   "version": "3.9.13"
  }
 },
 "nbformat": 4,
 "nbformat_minor": 5
}
