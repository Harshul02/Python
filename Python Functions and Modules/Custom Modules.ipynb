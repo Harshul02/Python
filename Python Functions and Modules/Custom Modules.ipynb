{
 "cells": [
  {
   "cell_type": "code",
   "execution_count": 26,
   "id": "dc11e562",
   "metadata": {},
   "outputs": [],
   "source": [
    "import my_custom"
   ]
  },
  {
   "cell_type": "code",
   "execution_count": 27,
   "id": "064c1e13",
   "metadata": {},
   "outputs": [
    {
     "data": {
      "text/plain": [
       "'HelloHarsh'"
      ]
     },
     "execution_count": 27,
     "metadata": {},
     "output_type": "execute_result"
    }
   ],
   "source": [
    "my_custom.greeting(\"Harsh\")"
   ]
  }
 ],
 "metadata": {
  "kernelspec": {
   "display_name": "Python 3 (ipykernel)",
   "language": "python",
   "name": "python3"
  },
  "language_info": {
   "codemirror_mode": {
    "name": "ipython",
    "version": 3
   },
   "file_extension": ".py",
   "mimetype": "text/x-python",
   "name": "python",
   "nbconvert_exporter": "python",
   "pygments_lexer": "ipython3",
   "version": "3.9.13"
  }
 },
 "nbformat": 4,
 "nbformat_minor": 5
}
