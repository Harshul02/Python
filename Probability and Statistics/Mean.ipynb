{
 "cells": [
  {
   "cell_type": "code",
   "execution_count": 1,
   "id": "b4bbd6ea",
   "metadata": {},
   "outputs": [],
   "source": [
    "marks = [75, 82,71,92,48,75,97,59,62,75,82,78,66,76,71]"
   ]
  },
  {
   "cell_type": "code",
   "execution_count": 2,
   "id": "9d705c10",
   "metadata": {},
   "outputs": [
    {
     "name": "stdout",
     "output_type": "stream",
     "text": [
      "[75, 82, 71, 92, 48, 75, 97, 59, 62, 75, 82, 78, 66, 76, 71]\n"
     ]
    }
   ],
   "source": [
    "print(marks)"
   ]
  },
  {
   "cell_type": "markdown",
   "id": "9660dd2e",
   "metadata": {},
   "source": [
    "# Mean"
   ]
  },
  {
   "cell_type": "code",
   "execution_count": 3,
   "id": "b318bee0",
   "metadata": {},
   "outputs": [
    {
     "data": {
      "text/plain": [
       "1109"
      ]
     },
     "execution_count": 3,
     "metadata": {},
     "output_type": "execute_result"
    }
   ],
   "source": [
    "sum(marks)"
   ]
  },
  {
   "cell_type": "code",
   "execution_count": 4,
   "id": "d230b048",
   "metadata": {},
   "outputs": [],
   "source": [
    "mean_marks = sum(marks)/len(marks)"
   ]
  },
  {
   "cell_type": "code",
   "execution_count": 5,
   "id": "e6c097fd",
   "metadata": {},
   "outputs": [
    {
     "name": "stdout",
     "output_type": "stream",
     "text": [
      "74\n"
     ]
    }
   ],
   "source": [
    "print(round(mean_marks))"
   ]
  },
  {
   "cell_type": "code",
   "execution_count": null,
   "id": "ab6ec471",
   "metadata": {},
   "outputs": [],
   "source": []
  },
  {
   "cell_type": "code",
   "execution_count": null,
   "id": "8a75b5fb",
   "metadata": {},
   "outputs": [],
   "source": []
  },
  {
   "cell_type": "markdown",
   "id": "d091d347",
   "metadata": {},
   "source": [
    "# Median"
   ]
  },
  {
   "cell_type": "code",
   "execution_count": 7,
   "id": "f1d97beb",
   "metadata": {},
   "outputs": [
    {
     "data": {
      "text/plain": [
       "[75, 82, 71, 92, 48, 75, 97, 59, 62, 75, 82, 78, 66, 76, 71]"
      ]
     },
     "execution_count": 7,
     "metadata": {},
     "output_type": "execute_result"
    }
   ],
   "source": [
    "marks"
   ]
  },
  {
   "cell_type": "code",
   "execution_count": 8,
   "id": "b7378448",
   "metadata": {},
   "outputs": [],
   "source": [
    "sorted_marks = sorted(marks)"
   ]
  },
  {
   "cell_type": "code",
   "execution_count": 9,
   "id": "e2aecf2f",
   "metadata": {},
   "outputs": [
    {
     "name": "stdout",
     "output_type": "stream",
     "text": [
      "[48, 59, 62, 66, 71, 71, 75, 75, 75, 76, 78, 82, 82, 92, 97]\n"
     ]
    }
   ],
   "source": [
    "print(sorted_marks)"
   ]
  },
  {
   "cell_type": "code",
   "execution_count": 12,
   "id": "616c0ec3",
   "metadata": {},
   "outputs": [],
   "source": [
    "index = len(sorted_marks)//2"
   ]
  },
  {
   "cell_type": "code",
   "execution_count": 13,
   "id": "a05912f7",
   "metadata": {},
   "outputs": [],
   "source": [
    "median = sorted_marks[index]"
   ]
  },
  {
   "cell_type": "code",
   "execution_count": 14,
   "id": "18aad362",
   "metadata": {
    "scrolled": true
   },
   "outputs": [
    {
     "data": {
      "text/plain": [
       "75"
      ]
     },
     "execution_count": 14,
     "metadata": {},
     "output_type": "execute_result"
    }
   ],
   "source": [
    "median"
   ]
  },
  {
   "cell_type": "code",
   "execution_count": null,
   "id": "33c8d4e7",
   "metadata": {},
   "outputs": [],
   "source": []
  },
  {
   "cell_type": "code",
   "execution_count": null,
   "id": "a2cfaca0",
   "metadata": {},
   "outputs": [],
   "source": []
  },
  {
   "cell_type": "markdown",
   "id": "37d3c1bd",
   "metadata": {},
   "source": [
    "# Mode"
   ]
  },
  {
   "cell_type": "code",
   "execution_count": 15,
   "id": "a766aead",
   "metadata": {},
   "outputs": [
    {
     "data": {
      "text/plain": [
       "[75, 82, 71, 92, 48, 75, 97, 59, 62, 75, 82, 78, 66, 76, 71]"
      ]
     },
     "execution_count": 15,
     "metadata": {},
     "output_type": "execute_result"
    }
   ],
   "source": [
    "marks"
   ]
  },
  {
   "cell_type": "code",
   "execution_count": 17,
   "id": "f2e0ed6b",
   "metadata": {},
   "outputs": [],
   "source": [
    "dic  = {}\n",
    "\n",
    "for i in marks:\n",
    "    if i in dic.keys():\n",
    "        dic[i] += 1\n",
    "    else:\n",
    "        dic[i] = 1"
   ]
  },
  {
   "cell_type": "code",
   "execution_count": 18,
   "id": "34d32a3b",
   "metadata": {},
   "outputs": [
    {
     "data": {
      "text/plain": [
       "{75: 3, 82: 2, 71: 2, 92: 1, 48: 1, 97: 1, 59: 1, 62: 1, 78: 1, 66: 1, 76: 1}"
      ]
     },
     "execution_count": 18,
     "metadata": {},
     "output_type": "execute_result"
    }
   ],
   "source": [
    "dic"
   ]
  },
  {
   "cell_type": "code",
   "execution_count": 19,
   "id": "ded07449",
   "metadata": {},
   "outputs": [],
   "source": [
    "_max = -10\n",
    "mode = None\n",
    "for k,v in dic.items():\n",
    "    if v>_max:\n",
    "        mode = k\n",
    "        _max = v"
   ]
  },
  {
   "cell_type": "code",
   "execution_count": 20,
   "id": "cb829319",
   "metadata": {},
   "outputs": [
    {
     "data": {
      "text/plain": [
       "75"
      ]
     },
     "execution_count": 20,
     "metadata": {},
     "output_type": "execute_result"
    }
   ],
   "source": [
    "mode"
   ]
  },
  {
   "cell_type": "markdown",
   "id": "7590a01f",
   "metadata": {},
   "source": [
    " "
   ]
  }
 ],
 "metadata": {
  "kernelspec": {
   "display_name": "Python 3 (ipykernel)",
   "language": "python",
   "name": "python3"
  },
  "language_info": {
   "codemirror_mode": {
    "name": "ipython",
    "version": 3
   },
   "file_extension": ".py",
   "mimetype": "text/x-python",
   "name": "python",
   "nbconvert_exporter": "python",
   "pygments_lexer": "ipython3",
   "version": "3.9.13"
  }
 },
 "nbformat": 4,
 "nbformat_minor": 5
}
