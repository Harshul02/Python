{
 "cells": [
  {
   "cell_type": "markdown",
   "id": "68fb7206",
   "metadata": {},
   "source": [
    "# Standardization"
   ]
  },
  {
   "cell_type": "code",
   "execution_count": 1,
   "id": "d16430dd",
   "metadata": {},
   "outputs": [],
   "source": [
    "marks = [75,82,71,92,48,75,97,59,62,75,82,78,66,76,71]"
   ]
  },
  {
   "cell_type": "code",
   "execution_count": 2,
   "id": "bb6c4355",
   "metadata": {},
   "outputs": [
    {
     "data": {
      "text/plain": [
       "[75, 82, 71, 92, 48, 75, 97, 59, 62, 75, 82, 78, 66, 76, 71]"
      ]
     },
     "execution_count": 2,
     "metadata": {},
     "output_type": "execute_result"
    }
   ],
   "source": [
    "marks"
   ]
  },
  {
   "cell_type": "code",
   "execution_count": 5,
   "id": "fb9162ca",
   "metadata": {},
   "outputs": [],
   "source": [
    " new_marks = []\n",
    "mean_marks = 75\n",
    "std = 11.919172230766138\n",
    "for i in range(len(marks)):\n",
    "    m = (marks[i] - round(mean_marks))/std\n",
    "    new_marks.append(m)"
   ]
  },
  {
   "cell_type": "code",
   "execution_count": 6,
   "id": "4fade9d2",
   "metadata": {},
   "outputs": [
    {
     "data": {
      "text/plain": [
       "[0.0,\n",
       " 0.587289105692372,\n",
       " -0.33559377468135543,\n",
       " 1.4262735423957607,\n",
       " -2.265257979099149,\n",
       " 0.0,\n",
       " 1.845765760747455,\n",
       " -1.3423750987254217,\n",
       " -1.0906797677144051,\n",
       " 0.0,\n",
       " 0.587289105692372,\n",
       " 0.2516953310110166,\n",
       " -0.7550859930330497,\n",
       " 0.08389844367033886,\n",
       " -0.33559377468135543]"
      ]
     },
     "execution_count": 6,
     "metadata": {},
     "output_type": "execute_result"
    }
   ],
   "source": [
    "new_marks"
   ]
  },
  {
   "cell_type": "code",
   "execution_count": 9,
   "id": "e6d0afe6",
   "metadata": {},
   "outputs": [],
   "source": [
    "new_mean = round(sum(new_marks)/len(new_marks))"
   ]
  },
  {
   "cell_type": "code",
   "execution_count": 10,
   "id": "514c8d29",
   "metadata": {},
   "outputs": [
    {
     "data": {
      "text/plain": [
       "0"
      ]
     },
     "execution_count": 10,
     "metadata": {},
     "output_type": "execute_result"
    }
   ],
   "source": [
    "new_mean"
   ]
  }
 ],
 "metadata": {
  "kernelspec": {
   "display_name": "Python 3 (ipykernel)",
   "language": "python",
   "name": "python3"
  },
  "language_info": {
   "codemirror_mode": {
    "name": "ipython",
    "version": 3
   },
   "file_extension": ".py",
   "mimetype": "text/x-python",
   "name": "python",
   "nbconvert_exporter": "python",
   "pygments_lexer": "ipython3",
   "version": "3.9.13"
  }
 },
 "nbformat": 4,
 "nbformat_minor": 5
}
