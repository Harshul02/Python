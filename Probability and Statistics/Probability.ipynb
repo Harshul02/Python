{
 "cells": [
  {
   "cell_type": "markdown",
   "id": "ed8f95e9",
   "metadata": {},
   "source": [
    "# Probability\n",
    "    - Marginal Probability\n",
    "    - Joint Probability\n",
    "    - Conditional Probability"
   ]
  },
  {
   "cell_type": "markdown",
   "id": "bb8669c7",
   "metadata": {},
   "source": [
    "#### Do Questions"
   ]
  },
  {
   "cell_type": "markdown",
   "id": "8986e10c",
   "metadata": {},
   "source": [
    "P(A/B)"
   ]
  },
  {
   "cell_type": "code",
   "execution_count": null,
   "id": "9683bd2e",
   "metadata": {},
   "outputs": [],
   "source": []
  },
  {
   "cell_type": "markdown",
   "id": "9342b066",
   "metadata": {},
   "source": [
    "# Bayes Theorem"
   ]
  },
  {
   "cell_type": "markdown",
   "id": "5e91be70",
   "metadata": {},
   "source": [
    "#### P(A/B) = (P(B/A) * (P(A)) / P(B)"
   ]
  }
 ],
 "metadata": {
  "kernelspec": {
   "display_name": "Python 3 (ipykernel)",
   "language": "python",
   "name": "python3"
  },
  "language_info": {
   "codemirror_mode": {
    "name": "ipython",
    "version": 3
   },
   "file_extension": ".py",
   "mimetype": "text/x-python",
   "name": "python",
   "nbconvert_exporter": "python",
   "pygments_lexer": "ipython3",
   "version": "3.9.13"
  }
 },
 "nbformat": 4,
 "nbformat_minor": 5
}
