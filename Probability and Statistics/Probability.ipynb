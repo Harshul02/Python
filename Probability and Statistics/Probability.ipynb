{
 "cells": [
  {
   "cell_type": "markdown",
   "id": "63117f53",
   "metadata": {},
   "source": [
    "# Probability\n",
    "    - Marginal Probability\n",
    "    - Joint Probability\n",
    "    - Conditional Probability"
   ]
  },
  {
   "cell_type": "markdown",
   "id": "3ea45e35",
   "metadata": {},
   "source": [
    "#### Do Questions"
   ]
  },
  {
   "cell_type": "markdown",
   "id": "45fdddc7",
   "metadata": {},
   "source": [
    "P(A/B)"
   ]
  }
 ],
 "metadata": {
  "kernelspec": {
   "display_name": "Python 3 (ipykernel)",
   "language": "python",
   "name": "python3"
  },
  "language_info": {
   "codemirror_mode": {
    "name": "ipython",
    "version": 3
   },
   "file_extension": ".py",
   "mimetype": "text/x-python",
   "name": "python",
   "nbconvert_exporter": "python",
   "pygments_lexer": "ipython3",
   "version": "3.9.13"
  }
 },
 "nbformat": 4,
 "nbformat_minor": 5
}
