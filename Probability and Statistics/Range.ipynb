{
 "cells": [
  {
   "cell_type": "markdown",
   "id": "5285a73a",
   "metadata": {},
   "source": [
    "# Range"
   ]
  },
  {
   "cell_type": "code",
   "execution_count": 1,
   "id": "f8297ea1",
   "metadata": {},
   "outputs": [],
   "source": [
    "marks = [75, 82,71,92,48,75,97,59,62,75,82,78,66,76,71]"
   ]
  },
  {
   "cell_type": "code",
   "execution_count": 2,
   "id": "9cedda19",
   "metadata": {},
   "outputs": [],
   "source": [
    "range_ = max(marks) - min(marks)"
   ]
  },
  {
   "cell_type": "code",
   "execution_count": 3,
   "id": "51c8840c",
   "metadata": {},
   "outputs": [
    {
     "name": "stdout",
     "output_type": "stream",
     "text": [
      "49\n"
     ]
    }
   ],
   "source": [
    "print(range_)"
   ]
  },
  {
   "cell_type": "code",
   "execution_count": null,
   "id": "bcb44e0c",
   "metadata": {},
   "outputs": [],
   "source": []
  },
  {
   "cell_type": "code",
   "execution_count": null,
   "id": "f9b2e12c",
   "metadata": {},
   "outputs": [],
   "source": []
  },
  {
   "cell_type": "markdown",
   "id": "72b54e4e",
   "metadata": {},
   "source": [
    "# Variance"
   ]
  },
  {
   "cell_type": "code",
   "execution_count": 4,
   "id": "bdbdfff8",
   "metadata": {},
   "outputs": [],
   "source": [
    "mean_marks = sum(marks)/len(marks)"
   ]
  },
  {
   "cell_type": "code",
   "execution_count": 7,
   "id": "4925e585",
   "metadata": {},
   "outputs": [
    {
     "data": {
      "text/plain": [
       "2131"
      ]
     },
     "execution_count": 7,
     "metadata": {},
     "output_type": "execute_result"
    }
   ],
   "source": [
    "sum_ = 0\n",
    "\n",
    "for i in range(len(marks)):\n",
    "    sum_ += (marks[i] - round(mean_marks))**2\n",
    "    \n",
    "sum_"
   ]
  },
  {
   "cell_type": "code",
   "execution_count": 8,
   "id": "0d6f385a",
   "metadata": {},
   "outputs": [],
   "source": [
    "var = sum_/len(marks)"
   ]
  },
  {
   "cell_type": "code",
   "execution_count": 9,
   "id": "ea49e6fd",
   "metadata": {},
   "outputs": [
    {
     "name": "stdout",
     "output_type": "stream",
     "text": [
      "142.06666666666666\n"
     ]
    }
   ],
   "source": [
    "print(var)"
   ]
  },
  {
   "cell_type": "code",
   "execution_count": null,
   "id": "e8d71eb0",
   "metadata": {},
   "outputs": [],
   "source": []
  },
  {
   "cell_type": "code",
   "execution_count": null,
   "id": "7d8c7a2e",
   "metadata": {},
   "outputs": [],
   "source": []
  },
  {
   "cell_type": "markdown",
   "id": "290dbc94",
   "metadata": {},
   "source": [
    "# Standard Deviation"
   ]
  },
  {
   "cell_type": "code",
   "execution_count": 10,
   "id": "b5da6f7d",
   "metadata": {},
   "outputs": [],
   "source": [
    "std = var**0.5"
   ]
  },
  {
   "cell_type": "code",
   "execution_count": 11,
   "id": "cf817b57",
   "metadata": {},
   "outputs": [
    {
     "data": {
      "text/plain": [
       "11.91917223076614"
      ]
     },
     "execution_count": 11,
     "metadata": {},
     "output_type": "execute_result"
    }
   ],
   "source": [
    "std"
   ]
  }
 ],
 "metadata": {
  "kernelspec": {
   "display_name": "Python 3 (ipykernel)",
   "language": "python",
   "name": "python3"
  },
  "language_info": {
   "codemirror_mode": {
    "name": "ipython",
    "version": 3
   },
   "file_extension": ".py",
   "mimetype": "text/x-python",
   "name": "python",
   "nbconvert_exporter": "python",
   "pygments_lexer": "ipython3",
   "version": "3.9.13"
  }
 },
 "nbformat": 4,
 "nbformat_minor": 5
}
