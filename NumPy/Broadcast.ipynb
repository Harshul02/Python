{
 "cells": [
  {
   "cell_type": "markdown",
   "id": "b6b0306c",
   "metadata": {},
   "source": [
    "# Broadcasting\n",
    "    - First Rule of numpy : 2 Arrays can performs operations only when they have same shapes\n",
    "    - broadcasting let two arrays of different shapes to do some operations.\n",
    "        - A small array will repeat itself, and convert to the same shape as of another array."
   ]
  },
  {
   "cell_type": "code",
   "execution_count": 8,
   "id": "b8cbf963",
   "metadata": {},
   "outputs": [],
   "source": [
    "A = np.random.randint(0,10, size=(3,3))\n",
    "a=np.array([[1,2,3]])"
   ]
  },
  {
   "cell_type": "code",
   "execution_count": 9,
   "id": "2afc9be7",
   "metadata": {},
   "outputs": [
    {
     "data": {
      "text/plain": [
       "array([[9, 5, 7],\n",
       "       [9, 1, 2],\n",
       "       [9, 0, 8]])"
      ]
     },
     "execution_count": 9,
     "metadata": {},
     "output_type": "execute_result"
    }
   ],
   "source": [
    "A"
   ]
  },
  {
   "cell_type": "code",
   "execution_count": 10,
   "id": "8c72d86b",
   "metadata": {},
   "outputs": [
    {
     "data": {
      "text/plain": [
       "array([[1, 2, 3]])"
      ]
     },
     "execution_count": 10,
     "metadata": {},
     "output_type": "execute_result"
    }
   ],
   "source": [
    "a"
   ]
  },
  {
   "cell_type": "code",
   "execution_count": 11,
   "id": "a3281921",
   "metadata": {},
   "outputs": [
    {
     "name": "stdout",
     "output_type": "stream",
     "text": [
      "(3, 3) (1, 3)\n"
     ]
    }
   ],
   "source": [
    "print(A.shape, a.shape)"
   ]
  },
  {
   "cell_type": "code",
   "execution_count": 12,
   "id": "5463da44",
   "metadata": {},
   "outputs": [
    {
     "data": {
      "text/plain": [
       "array([[10,  7, 10],\n",
       "       [10,  3,  5],\n",
       "       [10,  2, 11]])"
      ]
     },
     "execution_count": 12,
     "metadata": {},
     "output_type": "execute_result"
    }
   ],
   "source": [
    "A + a"
   ]
  },
  {
   "cell_type": "code",
   "execution_count": 13,
   "id": "8eb32bba",
   "metadata": {},
   "outputs": [
    {
     "data": {
      "text/plain": [
       "array([[1],\n",
       "       [2],\n",
       "       [3]])"
      ]
     },
     "execution_count": 13,
     "metadata": {},
     "output_type": "execute_result"
    }
   ],
   "source": [
    "a.T"
   ]
  },
  {
   "cell_type": "code",
   "execution_count": 14,
   "id": "59876dd3",
   "metadata": {},
   "outputs": [
    {
     "data": {
      "text/plain": [
       "array([[10,  6,  8],\n",
       "       [11,  3,  4],\n",
       "       [12,  3, 11]])"
      ]
     },
     "execution_count": 14,
     "metadata": {},
     "output_type": "execute_result"
    }
   ],
   "source": [
    "A + a.T"
   ]
  },
  {
   "cell_type": "code",
   "execution_count": 15,
   "id": "d8f7720f",
   "metadata": {},
   "outputs": [
    {
     "data": {
      "text/plain": [
       "array([[13,  9, 11],\n",
       "       [13,  5,  6],\n",
       "       [13,  4, 12]])"
      ]
     },
     "execution_count": 15,
     "metadata": {},
     "output_type": "execute_result"
    }
   ],
   "source": [
    "A + 4"
   ]
  }
 ],
 "metadata": {
  "kernelspec": {
   "display_name": "Python 3 (ipykernel)",
   "language": "python",
   "name": "python3"
  },
  "language_info": {
   "codemirror_mode": {
    "name": "ipython",
    "version": 3
   },
   "file_extension": ".py",
   "mimetype": "text/x-python",
   "name": "python",
   "nbconvert_exporter": "python",
   "pygments_lexer": "ipython3",
   "version": "3.9.13"
  }
 },
 "nbformat": 4,
 "nbformat_minor": 5
}
