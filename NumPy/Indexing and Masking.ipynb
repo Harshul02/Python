{
 "cells": [
  {
   "cell_type": "markdown",
   "id": "3be582b6",
   "metadata": {},
   "source": [
    "# Indexing in Array"
   ]
  },
  {
   "cell_type": "code",
   "execution_count": 2,
   "id": "20de0deb",
   "metadata": {},
   "outputs": [],
   "source": [
    "import numpy as np"
   ]
  },
  {
   "cell_type": "code",
   "execution_count": 17,
   "id": "eec840d9",
   "metadata": {},
   "outputs": [
    {
     "data": {
      "text/plain": [
       "44"
      ]
     },
     "execution_count": 17,
     "metadata": {},
     "output_type": "execute_result"
    }
   ],
   "source": [
    "np.random.randint(10,100)"
   ]
  },
  {
   "cell_type": "code",
   "execution_count": 34,
   "id": "cc8fe1c1",
   "metadata": {},
   "outputs": [],
   "source": [
    "new_arr = np.random.randint(10,100,(5,4))"
   ]
  },
  {
   "cell_type": "code",
   "execution_count": 35,
   "id": "d2f27e3c",
   "metadata": {},
   "outputs": [
    {
     "data": {
      "text/plain": [
       "array([[63, 66, 75, 26],\n",
       "       [34, 75, 13, 36],\n",
       "       [39, 44, 72, 67],\n",
       "       [13, 20, 80, 15],\n",
       "       [88, 46, 65, 96]])"
      ]
     },
     "execution_count": 35,
     "metadata": {},
     "output_type": "execute_result"
    }
   ],
   "source": [
    "new_arr"
   ]
  },
  {
   "cell_type": "code",
   "execution_count": 36,
   "id": "e62ce960",
   "metadata": {},
   "outputs": [
    {
     "data": {
      "text/plain": [
       "array([63, 66, 75, 26])"
      ]
     },
     "execution_count": 36,
     "metadata": {},
     "output_type": "execute_result"
    }
   ],
   "source": [
    "#first row\n",
    "new_arr[0]"
   ]
  },
  {
   "cell_type": "code",
   "execution_count": 37,
   "id": "922bec87",
   "metadata": {},
   "outputs": [
    {
     "data": {
      "text/plain": [
       "array([13, 20, 80, 15])"
      ]
     },
     "execution_count": 37,
     "metadata": {},
     "output_type": "execute_result"
    }
   ],
   "source": [
    "new_arr[-2]"
   ]
  },
  {
   "cell_type": "code",
   "execution_count": 38,
   "id": "0863c121",
   "metadata": {},
   "outputs": [
    {
     "data": {
      "text/plain": [
       "63"
      ]
     },
     "execution_count": 38,
     "metadata": {},
     "output_type": "execute_result"
    }
   ],
   "source": [
    "new_arr[0,0]"
   ]
  },
  {
   "cell_type": "code",
   "execution_count": 39,
   "id": "54fbd8b1",
   "metadata": {},
   "outputs": [
    {
     "data": {
      "text/plain": [
       "96"
      ]
     },
     "execution_count": 39,
     "metadata": {},
     "output_type": "execute_result"
    }
   ],
   "source": [
    "new_arr[-1,-1]"
   ]
  },
  {
   "cell_type": "code",
   "execution_count": 41,
   "id": "8337ead0",
   "metadata": {},
   "outputs": [
    {
     "data": {
      "text/plain": [
       "array([75, 13, 72, 80, 65])"
      ]
     },
     "execution_count": 41,
     "metadata": {},
     "output_type": "execute_result"
    }
   ],
   "source": [
    "new_arr[:,2]"
   ]
  },
  {
   "cell_type": "markdown",
   "id": "329d65b6",
   "metadata": {},
   "source": [
    "## Array Slicing"
   ]
  },
  {
   "cell_type": "code",
   "execution_count": 44,
   "id": "da576f47",
   "metadata": {},
   "outputs": [],
   "source": [
    "# arr[start_row_idx : end_row_idx + 1, start_col_idx : end_col_idx + 1]"
   ]
  },
  {
   "cell_type": "code",
   "execution_count": 43,
   "id": "6c950bd8",
   "metadata": {},
   "outputs": [
    {
     "data": {
      "text/plain": [
       "array([[44, 72, 67],\n",
       "       [20, 80, 15],\n",
       "       [46, 65, 96]])"
      ]
     },
     "execution_count": 43,
     "metadata": {},
     "output_type": "execute_result"
    }
   ],
   "source": [
    "new_arr[2:5, 1:4]"
   ]
  },
  {
   "cell_type": "code",
   "execution_count": 45,
   "id": "c28afc82",
   "metadata": {},
   "outputs": [
    {
     "data": {
      "text/plain": [
       "array([[44, 72, 67],\n",
       "       [20, 80, 15],\n",
       "       [46, 65, 96]])"
      ]
     },
     "execution_count": 45,
     "metadata": {},
     "output_type": "execute_result"
    }
   ],
   "source": [
    "new_arr[2:5, 1:]"
   ]
  },
  {
   "cell_type": "code",
   "execution_count": 47,
   "id": "3ce11722",
   "metadata": {},
   "outputs": [
    {
     "data": {
      "text/plain": [
       "array([75, 13, 72, 80, 65])"
      ]
     },
     "execution_count": 47,
     "metadata": {},
     "output_type": "execute_result"
    }
   ],
   "source": [
    "#third column only\n",
    "new_arr[:, 2]"
   ]
  },
  {
   "cell_type": "code",
   "execution_count": 48,
   "id": "68f9d5eb",
   "metadata": {},
   "outputs": [],
   "source": [
    "new_arr[0,0] = 0"
   ]
  },
  {
   "cell_type": "code",
   "execution_count": 49,
   "id": "0dec1dcf",
   "metadata": {},
   "outputs": [
    {
     "data": {
      "text/plain": [
       "array([[ 0, 66, 75, 26],\n",
       "       [34, 75, 13, 36],\n",
       "       [39, 44, 72, 67],\n",
       "       [13, 20, 80, 15],\n",
       "       [88, 46, 65, 96]])"
      ]
     },
     "execution_count": 49,
     "metadata": {},
     "output_type": "execute_result"
    }
   ],
   "source": [
    "new_arr"
   ]
  },
  {
   "cell_type": "code",
   "execution_count": 52,
   "id": "45c9ce53",
   "metadata": {},
   "outputs": [
    {
     "data": {
      "text/plain": [
       "array([[False,  True,  True,  True],\n",
       "       [ True,  True,  True,  True],\n",
       "       [ True,  True,  True,  True],\n",
       "       [ True,  True,  True,  True],\n",
       "       [ True,  True,  True,  True]])"
      ]
     },
     "execution_count": 52,
     "metadata": {},
     "output_type": "execute_result"
    }
   ],
   "source": [
    "#masking\n",
    "mask = new_arr > 10\n",
    "mask"
   ]
  },
  {
   "cell_type": "code",
   "execution_count": 53,
   "id": "839d03de",
   "metadata": {},
   "outputs": [
    {
     "data": {
      "text/plain": [
       "19"
      ]
     },
     "execution_count": 53,
     "metadata": {},
     "output_type": "execute_result"
    }
   ],
   "source": [
    "np.sum(mask)"
   ]
  },
  {
   "cell_type": "code",
   "execution_count": 55,
   "id": "997a5403",
   "metadata": {},
   "outputs": [
    {
     "data": {
      "text/plain": [
       "array([66, 75, 26, 34, 75, 13, 36, 39, 44, 72, 67, 13, 20, 80, 15, 88, 46,\n",
       "       65, 96])"
      ]
     },
     "execution_count": 55,
     "metadata": {},
     "output_type": "execute_result"
    }
   ],
   "source": [
    "#get all values greated than 10\n",
    "new_arr[mask]"
   ]
  },
  {
   "cell_type": "code",
   "execution_count": 56,
   "id": "c0060bd5",
   "metadata": {},
   "outputs": [
    {
     "data": {
      "text/plain": [
       "array([[ 0, 66, 75, 26],\n",
       "       [34, 75, 13, 36],\n",
       "       [39, 44, 72, 67],\n",
       "       [13, 20, 80, 15],\n",
       "       [88, 46, 65, 96]])"
      ]
     },
     "execution_count": 56,
     "metadata": {},
     "output_type": "execute_result"
    }
   ],
   "source": [
    "new_arr"
   ]
  },
  {
   "cell_type": "code",
   "execution_count": 57,
   "id": "a31165b7",
   "metadata": {},
   "outputs": [],
   "source": [
    "new_arr[2: , 2:] = 0"
   ]
  },
  {
   "cell_type": "code",
   "execution_count": 58,
   "id": "a752ea95",
   "metadata": {},
   "outputs": [
    {
     "data": {
      "text/plain": [
       "array([[ 0, 66, 75, 26],\n",
       "       [34, 75, 13, 36],\n",
       "       [39, 44,  0,  0],\n",
       "       [13, 20,  0,  0],\n",
       "       [88, 46,  0,  0]])"
      ]
     },
     "execution_count": 58,
     "metadata": {},
     "output_type": "execute_result"
    }
   ],
   "source": [
    "new_arr"
   ]
  }
 ],
 "metadata": {
  "kernelspec": {
   "display_name": "Python 3 (ipykernel)",
   "language": "python",
   "name": "python3"
  },
  "language_info": {
   "codemirror_mode": {
    "name": "ipython",
    "version": 3
   },
   "file_extension": ".py",
   "mimetype": "text/x-python",
   "name": "python",
   "nbconvert_exporter": "python",
   "pygments_lexer": "ipython3",
   "version": "3.9.13"
  }
 },
 "nbformat": 4,
 "nbformat_minor": 5
}
