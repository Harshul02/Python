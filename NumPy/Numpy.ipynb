{
 "cells": [
  {
   "cell_type": "markdown",
   "id": "c8ede792",
   "metadata": {},
   "source": [
    "# Numpy\n",
    "    - Numpy is a numerical computing library for python.\n",
    "    - support multi dimensional arrays and matrices\n",
    "    - It has a lot of in-built mathematical functions"
   ]
  },
  {
   "cell_type": "code",
   "execution_count": 1,
   "id": "2f97c438",
   "metadata": {},
   "outputs": [
    {
     "name": "stdout",
     "output_type": "stream",
     "text": [
      "Requirement already satisfied: numpy in d:\\anaconda\\lib\\site-packages (1.21.5)\n"
     ]
    }
   ],
   "source": [
    "#installing numpy library\n",
    "!pip install numpy"
   ]
  },
  {
   "cell_type": "code",
   "execution_count": 2,
   "id": "25822738",
   "metadata": {},
   "outputs": [],
   "source": [
    "#importing numpy as np\n",
    "import numpy as np"
   ]
  },
  {
   "cell_type": "markdown",
   "id": "2fd95be0",
   "metadata": {},
   "source": [
    "# Why Numpy?\n",
    "    - performs dast operations (becausr of Vectorization)\n",
    "    - numpy arrays can be treated as a vectors and matrices from linear algebra"
   ]
  },
  {
   "cell_type": "code",
   "execution_count": 3,
   "id": "96a1dfa8",
   "metadata": {},
   "outputs": [],
   "source": [
    "lst = [1,2,3,4,5,6,7,8,9,10]"
   ]
  },
  {
   "cell_type": "code",
   "execution_count": 4,
   "id": "c6623b7a",
   "metadata": {},
   "outputs": [
    {
     "name": "stdout",
     "output_type": "stream",
     "text": [
      "11.2 µs ± 546 ns per loop (mean ± std. dev. of 7 runs, 100000 loops each)\n"
     ]
    }
   ],
   "source": [
    "%timeit [i**2 for i in lst]"
   ]
  },
  {
   "cell_type": "code",
   "execution_count": 5,
   "id": "035bed3a",
   "metadata": {},
   "outputs": [],
   "source": [
    "arr = np.array(lst)"
   ]
  },
  {
   "cell_type": "code",
   "execution_count": 6,
   "id": "63bfcc8a",
   "metadata": {},
   "outputs": [
    {
     "data": {
      "text/plain": [
       "array([ 1,  2,  3,  4,  5,  6,  7,  8,  9, 10])"
      ]
     },
     "execution_count": 6,
     "metadata": {},
     "output_type": "execute_result"
    }
   ],
   "source": [
    "arr"
   ]
  },
  {
   "cell_type": "code",
   "execution_count": 7,
   "id": "099b2713",
   "metadata": {},
   "outputs": [
    {
     "name": "stdout",
     "output_type": "stream",
     "text": [
      "2.14 µs ± 70.4 ns per loop (mean ± std. dev. of 7 runs, 100000 loops each)\n"
     ]
    }
   ],
   "source": [
    "%timeit arr**2"
   ]
  },
  {
   "cell_type": "code",
   "execution_count": 8,
   "id": "b7a2a824",
   "metadata": {},
   "outputs": [
    {
     "ename": "TypeError",
     "evalue": "can only concatenate list (not \"int\") to list",
     "output_type": "error",
     "traceback": [
      "\u001b[1;31m---------------------------------------------------------------------------\u001b[0m",
      "\u001b[1;31mTypeError\u001b[0m                                 Traceback (most recent call last)",
      "\u001b[1;32m~\\AppData\\Local\\Temp\\ipykernel_13080\\335318110.py\u001b[0m in \u001b[0;36m<module>\u001b[1;34m\u001b[0m\n\u001b[1;32m----> 1\u001b[1;33m \u001b[0mlst\u001b[0m\u001b[1;33m+\u001b[0m\u001b[1;36m1\u001b[0m\u001b[1;33m\u001b[0m\u001b[1;33m\u001b[0m\u001b[0m\n\u001b[0m",
      "\u001b[1;31mTypeError\u001b[0m: can only concatenate list (not \"int\") to list"
     ]
    }
   ],
   "source": [
    "lst+1"
   ]
  },
  {
   "cell_type": "code",
   "execution_count": 9,
   "id": "e5d7d25c",
   "metadata": {},
   "outputs": [
    {
     "data": {
      "text/plain": [
       "array([ 2,  3,  4,  5,  6,  7,  8,  9, 10, 11])"
      ]
     },
     "execution_count": 9,
     "metadata": {},
     "output_type": "execute_result"
    }
   ],
   "source": [
    "arr + 1 "
   ]
  },
  {
   "cell_type": "code",
   "execution_count": null,
   "id": "a07d495f",
   "metadata": {},
   "outputs": [],
   "source": []
  }
 ],
 "metadata": {
  "kernelspec": {
   "display_name": "Python 3 (ipykernel)",
   "language": "python",
   "name": "python3"
  },
  "language_info": {
   "codemirror_mode": {
    "name": "ipython",
    "version": 3
   },
   "file_extension": ".py",
   "mimetype": "text/x-python",
   "name": "python",
   "nbconvert_exporter": "python",
   "pygments_lexer": "ipython3",
   "version": "3.9.13"
  }
 },
 "nbformat": 4,
 "nbformat_minor": 5
}
