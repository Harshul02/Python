{
 "cells": [
  {
   "cell_type": "markdown",
   "id": "c8ede792",
   "metadata": {},
   "source": [
    "# Numpy\n",
    "    - Numpy is a numerical computing library for python.\n",
    "    - support multi dimensional arrays and matrices\n",
    "    - It has a lot of in-built mathematical functions"
   ]
  },
  {
   "cell_type": "code",
   "execution_count": 1,
   "id": "2f97c438",
   "metadata": {},
   "outputs": [
    {
     "name": "stdout",
     "output_type": "stream",
     "text": [
      "Requirement already satisfied: numpy in d:\\anaconda\\lib\\site-packages (1.21.5)\n"
     ]
    }
   ],
   "source": [
    "#installing numpy library\n",
    "!pip install numpy"
   ]
  },
  {
   "cell_type": "code",
   "execution_count": 2,
   "id": "25822738",
   "metadata": {},
   "outputs": [],
   "source": [
    "#importing numpy as np\n",
    "import numpy as np"
   ]
  }
 ],
 "metadata": {
  "kernelspec": {
   "display_name": "Python 3 (ipykernel)",
   "language": "python",
   "name": "python3"
  },
  "language_info": {
   "codemirror_mode": {
    "name": "ipython",
    "version": 3
   },
   "file_extension": ".py",
   "mimetype": "text/x-python",
   "name": "python",
   "nbconvert_exporter": "python",
   "pygments_lexer": "ipython3",
   "version": "3.9.13"
  }
 },
 "nbformat": 4,
 "nbformat_minor": 5
}
