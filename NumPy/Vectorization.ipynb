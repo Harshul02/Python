{
 "cells": [
  {
   "cell_type": "markdown",
   "id": "7e322a13",
   "metadata": {},
   "source": [
    "# Vectorization\n",
    "    - performing operations directly on Arrays"
   ]
  },
  {
   "cell_type": "code",
   "execution_count": 2,
   "id": "35bcc177",
   "metadata": {},
   "outputs": [],
   "source": [
    "import numpy as np"
   ]
  },
  {
   "cell_type": "code",
   "execution_count": 3,
   "id": "4269a6c2",
   "metadata": {},
   "outputs": [],
   "source": [
    "p1 = np.array([1,2])\n",
    "p2 = np.array([5,5])"
   ]
  },
  {
   "cell_type": "code",
   "execution_count": 6,
   "id": "99f3a519",
   "metadata": {},
   "outputs": [
    {
     "name": "stdout",
     "output_type": "stream",
     "text": [
      "5.0\n"
     ]
    }
   ],
   "source": [
    "s=0\n",
    "\n",
    "for i in range(2):\n",
    "    s += (p2[i]-p1[i])**2\n",
    "    \n",
    "print(s**0.5)"
   ]
  },
  {
   "cell_type": "code",
   "execution_count": 9,
   "id": "4ca35d4d",
   "metadata": {},
   "outputs": [
    {
     "data": {
      "text/plain": [
       "5.0"
      ]
     },
     "execution_count": 9,
     "metadata": {},
     "output_type": "execute_result"
    }
   ],
   "source": [
    "#efficient\n",
    "np.sqrt(np.sum((p2-p1)**2))"
   ]
  },
  {
   "cell_type": "code",
   "execution_count": 11,
   "id": "94a496f3",
   "metadata": {},
   "outputs": [],
   "source": [
    "#efficient\n",
    "def distance(p1,p2):\n",
    "    return np.sqrt(np.sum((p2-p1)**2))"
   ]
  },
  {
   "cell_type": "code",
   "execution_count": 12,
   "id": "d8c36dc5",
   "metadata": {},
   "outputs": [
    {
     "data": {
      "text/plain": [
       "5.0"
      ]
     },
     "execution_count": 12,
     "metadata": {},
     "output_type": "execute_result"
    }
   ],
   "source": [
    "distance(p1,p2)"
   ]
  }
 ],
 "metadata": {
  "kernelspec": {
   "display_name": "Python 3 (ipykernel)",
   "language": "python",
   "name": "python3"
  },
  "language_info": {
   "codemirror_mode": {
    "name": "ipython",
    "version": 3
   },
   "file_extension": ".py",
   "mimetype": "text/x-python",
   "name": "python",
   "nbconvert_exporter": "python",
   "pygments_lexer": "ipython3",
   "version": "3.9.13"
  }
 },
 "nbformat": 4,
 "nbformat_minor": 5
}
