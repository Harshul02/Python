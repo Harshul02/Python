{
 "cells": [
  {
   "cell_type": "markdown",
   "id": "0d19ba08",
   "metadata": {},
   "source": [
    "### Control Flow: Conditional Statements\n",
    "<mark>if, else, elif</mark>"
   ]
  },
  {
   "cell_type": "code",
   "execution_count": 2,
   "id": "2c53d45d",
   "metadata": {},
   "outputs": [
    {
     "name": "stdout",
     "output_type": "stream",
     "text": [
      "Grow More\n"
     ]
    }
   ],
   "source": [
    "age =12\n",
    "\n",
    "if(age>=18):\n",
    "    print(\"You're eligible to Vote.\")\n",
    "else:\n",
    "    print(\"Grow More\")"
   ]
  },
  {
   "cell_type": "code",
   "execution_count": 3,
   "id": "99193783",
   "metadata": {},
   "outputs": [
    {
     "name": "stdout",
     "output_type": "stream",
     "text": [
      "Go home Bachha\n"
     ]
    }
   ],
   "source": [
    "age =12\n",
    "\n",
    "if(age>=18):\n",
    "    print(\"You're eligible to Vote.\")\n",
    "elif (age>=15):\n",
    "    print(\"Grow More\")\n",
    "else:\n",
    "    print(\"Go home Bachha\")"
   ]
  }
 ],
 "metadata": {
  "kernelspec": {
   "display_name": "Python 3 (ipykernel)",
   "language": "python",
   "name": "python3"
  },
  "language_info": {
   "codemirror_mode": {
    "name": "ipython",
    "version": 3
   },
   "file_extension": ".py",
   "mimetype": "text/x-python",
   "name": "python",
   "nbconvert_exporter": "python",
   "pygments_lexer": "ipython3",
   "version": "3.9.13"
  }
 },
 "nbformat": 4,
 "nbformat_minor": 5
}
