{
 "cells": [
  {
   "cell_type": "markdown",
   "id": "793a2810",
   "metadata": {},
   "source": [
    "<ul><b>Operators</b>\n",
    "    <li>Arithmetic Operators <mark> /,//, **</mark></li>\n",
    "    <li>Comparison Operators</li>\n",
    "    <li>Logical Operators</li>\n",
    "    <li>Bitwise Operators</li>\n",
    "    <li>Membership Operators <mark>in</mark></li>"
   ]
  },
  {
   "cell_type": "markdown",
   "id": "519a9a91",
   "metadata": {},
   "source": [
    "<b>Arithmetic</b>"
   ]
  },
  {
   "cell_type": "code",
   "execution_count": 1,
   "id": "bb180e67",
   "metadata": {},
   "outputs": [],
   "source": [
    "n0 = 12\n",
    "n1 = 3"
   ]
  },
  {
   "cell_type": "code",
   "execution_count": 2,
   "id": "29073794",
   "metadata": {},
   "outputs": [],
   "source": [
    "add = n0 + n1\n",
    "sub = n0-n1\n",
    "mul = n0*n1\n",
    "div = n0/n1\n",
    "f_div = n0 // n1\n",
    "exp = n0 ** n1\n",
    "mod = n0%n1"
   ]
  },
  {
   "cell_type": "code",
   "execution_count": 5,
   "id": "810a2654",
   "metadata": {},
   "outputs": [
    {
     "name": "stdout",
     "output_type": "stream",
     "text": [
      "15\n",
      "9\n",
      "36\n",
      "4.0\n",
      "4\n",
      "1728\n",
      "0\n"
     ]
    }
   ],
   "source": [
    "print(add)\n",
    "print(sub)\n",
    "print(mul)\n",
    "print(div)\n",
    "print(f_div)\n",
    "print(exp)\n",
    "print(mod)"
   ]
  },
  {
   "cell_type": "markdown",
   "id": "153a75b9",
   "metadata": {},
   "source": [
    "Comparision gives <b>true</b> or <b>false</b>"
   ]
  },
  {
   "cell_type": "code",
   "execution_count": null,
   "id": "6cad98d6",
   "metadata": {},
   "outputs": [],
   "source": []
  },
  {
   "cell_type": "markdown",
   "id": "42e3e0a7",
   "metadata": {},
   "source": [
    "<b>Logical</b><br>\n",
    "<mark>and</mark><br>\n",
    "<mark>or<br>not</mark>"
   ]
  },
  {
   "cell_type": "markdown",
   "id": "8d70b3aa",
   "metadata": {},
   "source": [
    "It gives answer as <b>True</b> or <b>False</b>"
   ]
  },
  {
   "cell_type": "markdown",
   "id": "a1a26584",
   "metadata": {},
   "source": [
    "### Membership\n",
    "    - in"
   ]
  },
  {
   "cell_type": "code",
   "execution_count": 6,
   "id": "9036189e",
   "metadata": {},
   "outputs": [
    {
     "data": {
      "text/plain": [
       "True"
      ]
     },
     "execution_count": 6,
     "metadata": {},
     "output_type": "execute_result"
    }
   ],
   "source": [
    "\"Good\" in \"Good Morning\""
   ]
  }
 ],
 "metadata": {
  "kernelspec": {
   "display_name": "Python 3 (ipykernel)",
   "language": "python",
   "name": "python3"
  },
  "language_info": {
   "codemirror_mode": {
    "name": "ipython",
    "version": 3
   },
   "file_extension": ".py",
   "mimetype": "text/x-python",
   "name": "python",
   "nbconvert_exporter": "python",
   "pygments_lexer": "ipython3",
   "version": "3.9.13"
  }
 },
 "nbformat": 4,
 "nbformat_minor": 5
}
