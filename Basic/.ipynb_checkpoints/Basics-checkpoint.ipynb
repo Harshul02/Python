{
 "cells": [
  {
   "cell_type": "code",
   "execution_count": 1,
   "id": "add8838b",
   "metadata": {},
   "outputs": [
    {
     "name": "stdout",
     "output_type": "stream",
     "text": [
      "Hello World\n"
     ]
    }
   ],
   "source": [
    "print(\"Hello World\")"
   ]
  },
  {
   "cell_type": "code",
   "execution_count": 1,
   "id": "ce2d908b",
   "metadata": {
    "scrolled": false
   },
   "outputs": [
    {
     "name": "stdout",
     "output_type": "stream",
     "text": [
      "Python Data Science 100\n"
     ]
    }
   ],
   "source": [
    "print(\"Python\", \"Data Science\", 100)"
   ]
  },
  {
   "cell_type": "code",
   "execution_count": 3,
   "id": "322c17a2",
   "metadata": {},
   "outputs": [],
   "source": [
    "#creating a variable\n",
    "i=5"
   ]
  },
  {
   "cell_type": "code",
   "execution_count": 5,
   "id": "be19190f",
   "metadata": {},
   "outputs": [
    {
     "name": "stdout",
     "output_type": "stream",
     "text": [
      "5\n"
     ]
    }
   ],
   "source": [
    "print(i)"
   ]
  },
  {
   "cell_type": "code",
   "execution_count": 6,
   "id": "03da3259",
   "metadata": {},
   "outputs": [
    {
     "data": {
      "text/plain": [
       "int"
      ]
     },
     "execution_count": 6,
     "metadata": {},
     "output_type": "execute_result"
    }
   ],
   "source": [
    "type(i)"
   ]
  },
  {
   "cell_type": "markdown",
   "id": "70c026cb",
   "metadata": {},
   "source": [
    "<b>. Python is a dynamic Language<br>\n",
    ". same variables can take values of different data-types.</b>"
   ]
  },
  {
   "cell_type": "code",
   "execution_count": 10,
   "id": "7195fff6",
   "metadata": {},
   "outputs": [],
   "source": [
    "i=\"I am a Programmer\""
   ]
  },
  {
   "cell_type": "code",
   "execution_count": 11,
   "id": "680c67eb",
   "metadata": {},
   "outputs": [
    {
     "name": "stdout",
     "output_type": "stream",
     "text": [
      "I am a Programmer\n"
     ]
    }
   ],
   "source": [
    "print(i)"
   ]
  },
  {
   "cell_type": "code",
   "execution_count": 12,
   "id": "a5b29e11",
   "metadata": {},
   "outputs": [
    {
     "data": {
      "text/plain": [
       "str"
      ]
     },
     "execution_count": 12,
     "metadata": {},
     "output_type": "execute_result"
    }
   ],
   "source": [
    "type(i)"
   ]
  },
  {
   "cell_type": "markdown",
   "id": "c78a782d",
   "metadata": {},
   "source": [
    "<b>Basic datatype</b><br>\n",
    "<ul>\n",
    "    <li>int</li>\n",
    "    <li>float</li>\n",
    "    <li>string</li>\n",
    "    <li>Boolean</li>\n",
    "    <li>None</li>\n",
    "    </ul>"
   ]
  },
  {
   "cell_type": "code",
   "execution_count": 16,
   "id": "d997f484",
   "metadata": {},
   "outputs": [
    {
     "name": "stdout",
     "output_type": "stream",
     "text": [
      "56.7\n",
      "<class 'float'>\n"
     ]
    }
   ],
   "source": [
    "my_f = 56.7\n",
    "\n",
    "print(my_f)\n",
    "print(type(my_f))"
   ]
  },
  {
   "cell_type": "code",
   "execution_count": 17,
   "id": "ef0c989a",
   "metadata": {
    "scrolled": true
   },
   "outputs": [
    {
     "name": "stdout",
     "output_type": "stream",
     "text": [
      "True\n",
      "<class 'bool'>\n"
     ]
    }
   ],
   "source": [
    "my_bool = True\n",
    "\n",
    "print(my_bool)\n",
    "print(type(my_bool))"
   ]
  },
  {
   "cell_type": "code",
   "execution_count": 18,
   "id": "e81a2e1c",
   "metadata": {},
   "outputs": [
    {
     "name": "stdout",
     "output_type": "stream",
     "text": [
      "None\n",
      "<class 'NoneType'>\n"
     ]
    }
   ],
   "source": [
    "my_none = None\n",
    "\n",
    "print(my_none)\n",
    "print(type(my_none))"
   ]
  }
 ],
 "metadata": {
  "kernelspec": {
   "display_name": "Python 3 (ipykernel)",
   "language": "python",
   "name": "python3"
  },
  "language_info": {
   "codemirror_mode": {
    "name": "ipython",
    "version": 3
   },
   "file_extension": ".py",
   "mimetype": "text/x-python",
   "name": "python",
   "nbconvert_exporter": "python",
   "pygments_lexer": "ipython3",
   "version": "3.9.13"
  }
 },
 "nbformat": 4,
 "nbformat_minor": 5
}
