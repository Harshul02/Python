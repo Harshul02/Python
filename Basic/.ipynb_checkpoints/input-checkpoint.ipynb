{
 "cells": [
  {
   "cell_type": "markdown",
   "id": "eeb37e83",
   "metadata": {},
   "source": [
    "<h1>Input</h1><br>\n",
    "<mark>input()</mark>: always return a string value"
   ]
  },
  {
   "cell_type": "code",
   "execution_count": 3,
   "id": "7536222e",
   "metadata": {},
   "outputs": [
    {
     "name": "stdout",
     "output_type": "stream",
     "text": [
      "Enter your name:Ramesh\n"
     ]
    }
   ],
   "source": [
    "name=input(\"Enter your name:\")"
   ]
  },
  {
   "cell_type": "code",
   "execution_count": 4,
   "id": "a74aebd3",
   "metadata": {},
   "outputs": [
    {
     "name": "stdout",
     "output_type": "stream",
     "text": [
      "Ramesh\n",
      "<class 'str'>\n"
     ]
    }
   ],
   "source": [
    "print(name)\n",
    "print(type(name))"
   ]
  },
  {
   "cell_type": "markdown",
   "id": "6a7e13f7",
   "metadata": {},
   "source": [
    "<b>Type Casting</b><br>\n",
    "- converts one datatype to another"
   ]
  },
  {
   "cell_type": "code",
   "execution_count": 5,
   "id": "57956f5b",
   "metadata": {},
   "outputs": [
    {
     "name": "stdout",
     "output_type": "stream",
     "text": [
      "<class 'str'>\n"
     ]
    }
   ],
   "source": [
    "num = '8'\n",
    "print(type(num))"
   ]
  },
  {
   "cell_type": "code",
   "execution_count": 6,
   "id": "2865d299",
   "metadata": {},
   "outputs": [
    {
     "name": "stdout",
     "output_type": "stream",
     "text": [
      "<class 'int'>\n"
     ]
    }
   ],
   "source": [
    "num = int(num)\n",
    "print(type(num))"
   ]
  },
  {
   "cell_type": "code",
   "execution_count": 7,
   "id": "9c6d57db",
   "metadata": {},
   "outputs": [
    {
     "name": "stdout",
     "output_type": "stream",
     "text": [
      "What is your age: 20\n"
     ]
    }
   ],
   "source": [
    "#type Casting\n",
    "age = int(input(\"What is your age: \"))"
   ]
  },
  {
   "cell_type": "code",
   "execution_count": 8,
   "id": "a1c09adf",
   "metadata": {},
   "outputs": [
    {
     "name": "stdout",
     "output_type": "stream",
     "text": [
      "20\n",
      "<class 'int'>\n"
     ]
    }
   ],
   "source": [
    "print(age)\n",
    "print(type(age))"
   ]
  }
 ],
 "metadata": {
  "kernelspec": {
   "display_name": "Python 3 (ipykernel)",
   "language": "python",
   "name": "python3"
  },
  "language_info": {
   "codemirror_mode": {
    "name": "ipython",
    "version": 3
   },
   "file_extension": ".py",
   "mimetype": "text/x-python",
   "name": "python",
   "nbconvert_exporter": "python",
   "pygments_lexer": "ipython3",
   "version": "3.9.13"
  }
 },
 "nbformat": 4,
 "nbformat_minor": 5
}
